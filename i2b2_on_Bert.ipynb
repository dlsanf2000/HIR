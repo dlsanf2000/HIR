{
  "nbformat": 4,
  "nbformat_minor": 0,
  "metadata": {
    "colab": {
      "name": "i2b2 on Bert.ipynb",
      "provenance": [],
      "authorship_tag": "ABX9TyM2tdvFdI13Mij0ixi8zNwx",
      "include_colab_link": true
    },
    "kernelspec": {
      "name": "python3",
      "display_name": "Python 3"
    },
    "widgets": {
      "application/vnd.jupyter.widget-state+json": {
        "6693834ea77f42c8a60ef650a6f4200b": {
          "model_module": "@jupyter-widgets/controls",
          "model_name": "HBoxModel",
          "state": {
            "_view_name": "HBoxView",
            "_dom_classes": [],
            "_model_name": "HBoxModel",
            "_view_module": "@jupyter-widgets/controls",
            "_model_module_version": "1.5.0",
            "_view_count": null,
            "_view_module_version": "1.5.0",
            "box_style": "",
            "layout": "IPY_MODEL_3f6b74c0bc7e48bcaaac696d99ba7199",
            "_model_module": "@jupyter-widgets/controls",
            "children": [
              "IPY_MODEL_d22eb73559224d9da63a8ae06c4464c3",
              "IPY_MODEL_295dea75538d458eb8e31b4e7677e64c"
            ]
          }
        },
        "3f6b74c0bc7e48bcaaac696d99ba7199": {
          "model_module": "@jupyter-widgets/base",
          "model_name": "LayoutModel",
          "state": {
            "_view_name": "LayoutView",
            "grid_template_rows": null,
            "right": null,
            "justify_content": null,
            "_view_module": "@jupyter-widgets/base",
            "overflow": null,
            "_model_module_version": "1.2.0",
            "_view_count": null,
            "flex_flow": null,
            "width": null,
            "min_width": null,
            "border": null,
            "align_items": null,
            "bottom": null,
            "_model_module": "@jupyter-widgets/base",
            "top": null,
            "grid_column": null,
            "overflow_y": null,
            "overflow_x": null,
            "grid_auto_flow": null,
            "grid_area": null,
            "grid_template_columns": null,
            "flex": null,
            "_model_name": "LayoutModel",
            "justify_items": null,
            "grid_row": null,
            "max_height": null,
            "align_content": null,
            "visibility": null,
            "align_self": null,
            "height": null,
            "min_height": null,
            "padding": null,
            "grid_auto_rows": null,
            "grid_gap": null,
            "max_width": null,
            "order": null,
            "_view_module_version": "1.2.0",
            "grid_template_areas": null,
            "object_position": null,
            "object_fit": null,
            "grid_auto_columns": null,
            "margin": null,
            "display": null,
            "left": null
          }
        },
        "d22eb73559224d9da63a8ae06c4464c3": {
          "model_module": "@jupyter-widgets/controls",
          "model_name": "FloatProgressModel",
          "state": {
            "_view_name": "ProgressView",
            "style": "IPY_MODEL_3659b9ba08224ee99c69c8866b6f21e0",
            "_dom_classes": [],
            "description": "Downloading: 100%",
            "_model_name": "FloatProgressModel",
            "bar_style": "success",
            "max": 213450,
            "_view_module": "@jupyter-widgets/controls",
            "_model_module_version": "1.5.0",
            "value": 213450,
            "_view_count": null,
            "_view_module_version": "1.5.0",
            "orientation": "horizontal",
            "min": 0,
            "description_tooltip": null,
            "_model_module": "@jupyter-widgets/controls",
            "layout": "IPY_MODEL_90b1d4aa343b446a92d111ed65e681c3"
          }
        },
        "295dea75538d458eb8e31b4e7677e64c": {
          "model_module": "@jupyter-widgets/controls",
          "model_name": "HTMLModel",
          "state": {
            "_view_name": "HTMLView",
            "style": "IPY_MODEL_a8b9f34edd1a420b97524042f7216895",
            "_dom_classes": [],
            "description": "",
            "_model_name": "HTMLModel",
            "placeholder": "​",
            "_view_module": "@jupyter-widgets/controls",
            "_model_module_version": "1.5.0",
            "value": " 213k/213k [00:01&lt;00:00, 151kB/s]",
            "_view_count": null,
            "_view_module_version": "1.5.0",
            "description_tooltip": null,
            "_model_module": "@jupyter-widgets/controls",
            "layout": "IPY_MODEL_74ed007695854d19b49d8a278d67484d"
          }
        },
        "3659b9ba08224ee99c69c8866b6f21e0": {
          "model_module": "@jupyter-widgets/controls",
          "model_name": "ProgressStyleModel",
          "state": {
            "_view_name": "StyleView",
            "_model_name": "ProgressStyleModel",
            "description_width": "initial",
            "_view_module": "@jupyter-widgets/base",
            "_model_module_version": "1.5.0",
            "_view_count": null,
            "_view_module_version": "1.2.0",
            "bar_color": null,
            "_model_module": "@jupyter-widgets/controls"
          }
        },
        "90b1d4aa343b446a92d111ed65e681c3": {
          "model_module": "@jupyter-widgets/base",
          "model_name": "LayoutModel",
          "state": {
            "_view_name": "LayoutView",
            "grid_template_rows": null,
            "right": null,
            "justify_content": null,
            "_view_module": "@jupyter-widgets/base",
            "overflow": null,
            "_model_module_version": "1.2.0",
            "_view_count": null,
            "flex_flow": null,
            "width": null,
            "min_width": null,
            "border": null,
            "align_items": null,
            "bottom": null,
            "_model_module": "@jupyter-widgets/base",
            "top": null,
            "grid_column": null,
            "overflow_y": null,
            "overflow_x": null,
            "grid_auto_flow": null,
            "grid_area": null,
            "grid_template_columns": null,
            "flex": null,
            "_model_name": "LayoutModel",
            "justify_items": null,
            "grid_row": null,
            "max_height": null,
            "align_content": null,
            "visibility": null,
            "align_self": null,
            "height": null,
            "min_height": null,
            "padding": null,
            "grid_auto_rows": null,
            "grid_gap": null,
            "max_width": null,
            "order": null,
            "_view_module_version": "1.2.0",
            "grid_template_areas": null,
            "object_position": null,
            "object_fit": null,
            "grid_auto_columns": null,
            "margin": null,
            "display": null,
            "left": null
          }
        },
        "a8b9f34edd1a420b97524042f7216895": {
          "model_module": "@jupyter-widgets/controls",
          "model_name": "DescriptionStyleModel",
          "state": {
            "_view_name": "StyleView",
            "_model_name": "DescriptionStyleModel",
            "description_width": "",
            "_view_module": "@jupyter-widgets/base",
            "_model_module_version": "1.5.0",
            "_view_count": null,
            "_view_module_version": "1.2.0",
            "_model_module": "@jupyter-widgets/controls"
          }
        },
        "74ed007695854d19b49d8a278d67484d": {
          "model_module": "@jupyter-widgets/base",
          "model_name": "LayoutModel",
          "state": {
            "_view_name": "LayoutView",
            "grid_template_rows": null,
            "right": null,
            "justify_content": null,
            "_view_module": "@jupyter-widgets/base",
            "overflow": null,
            "_model_module_version": "1.2.0",
            "_view_count": null,
            "flex_flow": null,
            "width": null,
            "min_width": null,
            "border": null,
            "align_items": null,
            "bottom": null,
            "_model_module": "@jupyter-widgets/base",
            "top": null,
            "grid_column": null,
            "overflow_y": null,
            "overflow_x": null,
            "grid_auto_flow": null,
            "grid_area": null,
            "grid_template_columns": null,
            "flex": null,
            "_model_name": "LayoutModel",
            "justify_items": null,
            "grid_row": null,
            "max_height": null,
            "align_content": null,
            "visibility": null,
            "align_self": null,
            "height": null,
            "min_height": null,
            "padding": null,
            "grid_auto_rows": null,
            "grid_gap": null,
            "max_width": null,
            "order": null,
            "_view_module_version": "1.2.0",
            "grid_template_areas": null,
            "object_position": null,
            "object_fit": null,
            "grid_auto_columns": null,
            "margin": null,
            "display": null,
            "left": null
          }
        },
        "a7c4c33c3edd4cdf9ed8b1396f37cd1a": {
          "model_module": "@jupyter-widgets/controls",
          "model_name": "HBoxModel",
          "state": {
            "_view_name": "HBoxView",
            "_dom_classes": [],
            "_model_name": "HBoxModel",
            "_view_module": "@jupyter-widgets/controls",
            "_model_module_version": "1.5.0",
            "_view_count": null,
            "_view_module_version": "1.5.0",
            "box_style": "",
            "layout": "IPY_MODEL_1f38ed097c7f4fc68f5fde177dc232f6",
            "_model_module": "@jupyter-widgets/controls",
            "children": [
              "IPY_MODEL_fbfd76dda4444ba3bb51837d7e64c886",
              "IPY_MODEL_2ea5481d6a1949f4a8d4e7589ff5dc27"
            ]
          }
        },
        "1f38ed097c7f4fc68f5fde177dc232f6": {
          "model_module": "@jupyter-widgets/base",
          "model_name": "LayoutModel",
          "state": {
            "_view_name": "LayoutView",
            "grid_template_rows": null,
            "right": null,
            "justify_content": null,
            "_view_module": "@jupyter-widgets/base",
            "overflow": null,
            "_model_module_version": "1.2.0",
            "_view_count": null,
            "flex_flow": null,
            "width": null,
            "min_width": null,
            "border": null,
            "align_items": null,
            "bottom": null,
            "_model_module": "@jupyter-widgets/base",
            "top": null,
            "grid_column": null,
            "overflow_y": null,
            "overflow_x": null,
            "grid_auto_flow": null,
            "grid_area": null,
            "grid_template_columns": null,
            "flex": null,
            "_model_name": "LayoutModel",
            "justify_items": null,
            "grid_row": null,
            "max_height": null,
            "align_content": null,
            "visibility": null,
            "align_self": null,
            "height": null,
            "min_height": null,
            "padding": null,
            "grid_auto_rows": null,
            "grid_gap": null,
            "max_width": null,
            "order": null,
            "_view_module_version": "1.2.0",
            "grid_template_areas": null,
            "object_position": null,
            "object_fit": null,
            "grid_auto_columns": null,
            "margin": null,
            "display": null,
            "left": null
          }
        },
        "fbfd76dda4444ba3bb51837d7e64c886": {
          "model_module": "@jupyter-widgets/controls",
          "model_name": "FloatProgressModel",
          "state": {
            "_view_name": "ProgressView",
            "style": "IPY_MODEL_6d96ebb83cc34383b3dccea1e6d357ef",
            "_dom_classes": [],
            "description": "Downloading: 100%",
            "_model_name": "FloatProgressModel",
            "bar_style": "success",
            "max": 385,
            "_view_module": "@jupyter-widgets/controls",
            "_model_module_version": "1.5.0",
            "value": 385,
            "_view_count": null,
            "_view_module_version": "1.5.0",
            "orientation": "horizontal",
            "min": 0,
            "description_tooltip": null,
            "_model_module": "@jupyter-widgets/controls",
            "layout": "IPY_MODEL_87882838341f4fa786d94a9f72f9617b"
          }
        },
        "2ea5481d6a1949f4a8d4e7589ff5dc27": {
          "model_module": "@jupyter-widgets/controls",
          "model_name": "HTMLModel",
          "state": {
            "_view_name": "HTMLView",
            "style": "IPY_MODEL_6bd8b089c2554c27aaeed8f8bcaf980a",
            "_dom_classes": [],
            "description": "",
            "_model_name": "HTMLModel",
            "placeholder": "​",
            "_view_module": "@jupyter-widgets/controls",
            "_model_module_version": "1.5.0",
            "value": " 385/385 [00:00&lt;00:00, 467B/s]",
            "_view_count": null,
            "_view_module_version": "1.5.0",
            "description_tooltip": null,
            "_model_module": "@jupyter-widgets/controls",
            "layout": "IPY_MODEL_8a6fb3d893594a9195a20edc3a6b942e"
          }
        },
        "6d96ebb83cc34383b3dccea1e6d357ef": {
          "model_module": "@jupyter-widgets/controls",
          "model_name": "ProgressStyleModel",
          "state": {
            "_view_name": "StyleView",
            "_model_name": "ProgressStyleModel",
            "description_width": "initial",
            "_view_module": "@jupyter-widgets/base",
            "_model_module_version": "1.5.0",
            "_view_count": null,
            "_view_module_version": "1.2.0",
            "bar_color": null,
            "_model_module": "@jupyter-widgets/controls"
          }
        },
        "87882838341f4fa786d94a9f72f9617b": {
          "model_module": "@jupyter-widgets/base",
          "model_name": "LayoutModel",
          "state": {
            "_view_name": "LayoutView",
            "grid_template_rows": null,
            "right": null,
            "justify_content": null,
            "_view_module": "@jupyter-widgets/base",
            "overflow": null,
            "_model_module_version": "1.2.0",
            "_view_count": null,
            "flex_flow": null,
            "width": null,
            "min_width": null,
            "border": null,
            "align_items": null,
            "bottom": null,
            "_model_module": "@jupyter-widgets/base",
            "top": null,
            "grid_column": null,
            "overflow_y": null,
            "overflow_x": null,
            "grid_auto_flow": null,
            "grid_area": null,
            "grid_template_columns": null,
            "flex": null,
            "_model_name": "LayoutModel",
            "justify_items": null,
            "grid_row": null,
            "max_height": null,
            "align_content": null,
            "visibility": null,
            "align_self": null,
            "height": null,
            "min_height": null,
            "padding": null,
            "grid_auto_rows": null,
            "grid_gap": null,
            "max_width": null,
            "order": null,
            "_view_module_version": "1.2.0",
            "grid_template_areas": null,
            "object_position": null,
            "object_fit": null,
            "grid_auto_columns": null,
            "margin": null,
            "display": null,
            "left": null
          }
        },
        "6bd8b089c2554c27aaeed8f8bcaf980a": {
          "model_module": "@jupyter-widgets/controls",
          "model_name": "DescriptionStyleModel",
          "state": {
            "_view_name": "StyleView",
            "_model_name": "DescriptionStyleModel",
            "description_width": "",
            "_view_module": "@jupyter-widgets/base",
            "_model_module_version": "1.5.0",
            "_view_count": null,
            "_view_module_version": "1.2.0",
            "_model_module": "@jupyter-widgets/controls"
          }
        },
        "8a6fb3d893594a9195a20edc3a6b942e": {
          "model_module": "@jupyter-widgets/base",
          "model_name": "LayoutModel",
          "state": {
            "_view_name": "LayoutView",
            "grid_template_rows": null,
            "right": null,
            "justify_content": null,
            "_view_module": "@jupyter-widgets/base",
            "overflow": null,
            "_model_module_version": "1.2.0",
            "_view_count": null,
            "flex_flow": null,
            "width": null,
            "min_width": null,
            "border": null,
            "align_items": null,
            "bottom": null,
            "_model_module": "@jupyter-widgets/base",
            "top": null,
            "grid_column": null,
            "overflow_y": null,
            "overflow_x": null,
            "grid_auto_flow": null,
            "grid_area": null,
            "grid_template_columns": null,
            "flex": null,
            "_model_name": "LayoutModel",
            "justify_items": null,
            "grid_row": null,
            "max_height": null,
            "align_content": null,
            "visibility": null,
            "align_self": null,
            "height": null,
            "min_height": null,
            "padding": null,
            "grid_auto_rows": null,
            "grid_gap": null,
            "max_width": null,
            "order": null,
            "_view_module_version": "1.2.0",
            "grid_template_areas": null,
            "object_position": null,
            "object_fit": null,
            "grid_auto_columns": null,
            "margin": null,
            "display": null,
            "left": null
          }
        },
        "cb20cfeef2d54430b5be320780b3ea88": {
          "model_module": "@jupyter-widgets/controls",
          "model_name": "HBoxModel",
          "state": {
            "_view_name": "HBoxView",
            "_dom_classes": [],
            "_model_name": "HBoxModel",
            "_view_module": "@jupyter-widgets/controls",
            "_model_module_version": "1.5.0",
            "_view_count": null,
            "_view_module_version": "1.5.0",
            "box_style": "",
            "layout": "IPY_MODEL_e12da47258984f9ba610aeff2670de61",
            "_model_module": "@jupyter-widgets/controls",
            "children": [
              "IPY_MODEL_7311ff1a735c44d589c012fe1a7cd9ad",
              "IPY_MODEL_b42b3388ae96442d848a8c667af48124"
            ]
          }
        },
        "e12da47258984f9ba610aeff2670de61": {
          "model_module": "@jupyter-widgets/base",
          "model_name": "LayoutModel",
          "state": {
            "_view_name": "LayoutView",
            "grid_template_rows": null,
            "right": null,
            "justify_content": null,
            "_view_module": "@jupyter-widgets/base",
            "overflow": null,
            "_model_module_version": "1.2.0",
            "_view_count": null,
            "flex_flow": null,
            "width": null,
            "min_width": null,
            "border": null,
            "align_items": null,
            "bottom": null,
            "_model_module": "@jupyter-widgets/base",
            "top": null,
            "grid_column": null,
            "overflow_y": null,
            "overflow_x": null,
            "grid_auto_flow": null,
            "grid_area": null,
            "grid_template_columns": null,
            "flex": null,
            "_model_name": "LayoutModel",
            "justify_items": null,
            "grid_row": null,
            "max_height": null,
            "align_content": null,
            "visibility": null,
            "align_self": null,
            "height": null,
            "min_height": null,
            "padding": null,
            "grid_auto_rows": null,
            "grid_gap": null,
            "max_width": null,
            "order": null,
            "_view_module_version": "1.2.0",
            "grid_template_areas": null,
            "object_position": null,
            "object_fit": null,
            "grid_auto_columns": null,
            "margin": null,
            "display": null,
            "left": null
          }
        },
        "7311ff1a735c44d589c012fe1a7cd9ad": {
          "model_module": "@jupyter-widgets/controls",
          "model_name": "FloatProgressModel",
          "state": {
            "_view_name": "ProgressView",
            "style": "IPY_MODEL_dec8aff0e6574cb2bd8ca61582ca4999",
            "_dom_classes": [],
            "description": "Downloading: 100%",
            "_model_name": "FloatProgressModel",
            "bar_style": "success",
            "max": 435778770,
            "_view_module": "@jupyter-widgets/controls",
            "_model_module_version": "1.5.0",
            "value": 435778770,
            "_view_count": null,
            "_view_module_version": "1.5.0",
            "orientation": "horizontal",
            "min": 0,
            "description_tooltip": null,
            "_model_module": "@jupyter-widgets/controls",
            "layout": "IPY_MODEL_ef27e2a6516d4503866866910a28b39d"
          }
        },
        "b42b3388ae96442d848a8c667af48124": {
          "model_module": "@jupyter-widgets/controls",
          "model_name": "HTMLModel",
          "state": {
            "_view_name": "HTMLView",
            "style": "IPY_MODEL_36d6a4c46d3c4527910a12bddfb7d77b",
            "_dom_classes": [],
            "description": "",
            "_model_name": "HTMLModel",
            "placeholder": "​",
            "_view_module": "@jupyter-widgets/controls",
            "_model_module_version": "1.5.0",
            "value": " 436M/436M [27:25&lt;00:00, 265kB/s]",
            "_view_count": null,
            "_view_module_version": "1.5.0",
            "description_tooltip": null,
            "_model_module": "@jupyter-widgets/controls",
            "layout": "IPY_MODEL_be854c029e9e40479979c7ada84b8fac"
          }
        },
        "dec8aff0e6574cb2bd8ca61582ca4999": {
          "model_module": "@jupyter-widgets/controls",
          "model_name": "ProgressStyleModel",
          "state": {
            "_view_name": "StyleView",
            "_model_name": "ProgressStyleModel",
            "description_width": "initial",
            "_view_module": "@jupyter-widgets/base",
            "_model_module_version": "1.5.0",
            "_view_count": null,
            "_view_module_version": "1.2.0",
            "bar_color": null,
            "_model_module": "@jupyter-widgets/controls"
          }
        },
        "ef27e2a6516d4503866866910a28b39d": {
          "model_module": "@jupyter-widgets/base",
          "model_name": "LayoutModel",
          "state": {
            "_view_name": "LayoutView",
            "grid_template_rows": null,
            "right": null,
            "justify_content": null,
            "_view_module": "@jupyter-widgets/base",
            "overflow": null,
            "_model_module_version": "1.2.0",
            "_view_count": null,
            "flex_flow": null,
            "width": null,
            "min_width": null,
            "border": null,
            "align_items": null,
            "bottom": null,
            "_model_module": "@jupyter-widgets/base",
            "top": null,
            "grid_column": null,
            "overflow_y": null,
            "overflow_x": null,
            "grid_auto_flow": null,
            "grid_area": null,
            "grid_template_columns": null,
            "flex": null,
            "_model_name": "LayoutModel",
            "justify_items": null,
            "grid_row": null,
            "max_height": null,
            "align_content": null,
            "visibility": null,
            "align_self": null,
            "height": null,
            "min_height": null,
            "padding": null,
            "grid_auto_rows": null,
            "grid_gap": null,
            "max_width": null,
            "order": null,
            "_view_module_version": "1.2.0",
            "grid_template_areas": null,
            "object_position": null,
            "object_fit": null,
            "grid_auto_columns": null,
            "margin": null,
            "display": null,
            "left": null
          }
        },
        "36d6a4c46d3c4527910a12bddfb7d77b": {
          "model_module": "@jupyter-widgets/controls",
          "model_name": "DescriptionStyleModel",
          "state": {
            "_view_name": "StyleView",
            "_model_name": "DescriptionStyleModel",
            "description_width": "",
            "_view_module": "@jupyter-widgets/base",
            "_model_module_version": "1.5.0",
            "_view_count": null,
            "_view_module_version": "1.2.0",
            "_model_module": "@jupyter-widgets/controls"
          }
        },
        "be854c029e9e40479979c7ada84b8fac": {
          "model_module": "@jupyter-widgets/base",
          "model_name": "LayoutModel",
          "state": {
            "_view_name": "LayoutView",
            "grid_template_rows": null,
            "right": null,
            "justify_content": null,
            "_view_module": "@jupyter-widgets/base",
            "overflow": null,
            "_model_module_version": "1.2.0",
            "_view_count": null,
            "flex_flow": null,
            "width": null,
            "min_width": null,
            "border": null,
            "align_items": null,
            "bottom": null,
            "_model_module": "@jupyter-widgets/base",
            "top": null,
            "grid_column": null,
            "overflow_y": null,
            "overflow_x": null,
            "grid_auto_flow": null,
            "grid_area": null,
            "grid_template_columns": null,
            "flex": null,
            "_model_name": "LayoutModel",
            "justify_items": null,
            "grid_row": null,
            "max_height": null,
            "align_content": null,
            "visibility": null,
            "align_self": null,
            "height": null,
            "min_height": null,
            "padding": null,
            "grid_auto_rows": null,
            "grid_gap": null,
            "max_width": null,
            "order": null,
            "_view_module_version": "1.2.0",
            "grid_template_areas": null,
            "object_position": null,
            "object_fit": null,
            "grid_auto_columns": null,
            "margin": null,
            "display": null,
            "left": null
          }
        }
      }
    },
    "accelerator": "GPU"
  },
  "cells": [
    {
      "cell_type": "markdown",
      "metadata": {
        "id": "view-in-github",
        "colab_type": "text"
      },
      "source": [
        "<a href=\"https://colab.research.google.com/github/dlsanf2000/HIR/blob/main/i2b2_on_Bert.ipynb\" target=\"_parent\"><img src=\"https://colab.research.google.com/assets/colab-badge.svg\" alt=\"Open In Colab\"/></a>"
      ]
    },
    {
      "cell_type": "code",
      "metadata": {
        "colab": {
          "base_uri": "https://localhost:8080/"
        },
        "id": "VeIkCFMraKzm",
        "outputId": "60d42f16-bfdf-4709-e86f-dd759b060c2d"
      },
      "source": [
        "import numpy as np\r\n",
        "import pandas as pd\r\n",
        "from google.colab import drive\r\n",
        "drive.mount('/content/drive/')"
      ],
      "execution_count": 1,
      "outputs": [
        {
          "output_type": "stream",
          "text": [
            "Mounted at /content/drive/\n"
          ],
          "name": "stdout"
        }
      ]
    },
    {
      "cell_type": "code",
      "metadata": {
        "colab": {
          "base_uri": "https://localhost:8080/"
        },
        "id": "0diXmPhFbBmI",
        "outputId": "f62e7155-1c32-42e9-bb10-c933ac1b2454"
      },
      "source": [
        "!pip install transformers\r\n",
        "import transformers"
      ],
      "execution_count": 2,
      "outputs": [
        {
          "output_type": "stream",
          "text": [
            "Collecting transformers\n",
            "\u001b[?25l  Downloading https://files.pythonhosted.org/packages/f9/54/5ca07ec9569d2f232f3166de5457b63943882f7950ddfcc887732fc7fb23/transformers-4.3.3-py3-none-any.whl (1.9MB)\n",
            "\r\u001b[K     |▏                               | 10kB 14.1MB/s eta 0:00:01\r\u001b[K     |▍                               | 20kB 19.2MB/s eta 0:00:01\r\u001b[K     |▌                               | 30kB 18.7MB/s eta 0:00:01\r\u001b[K     |▊                               | 40kB 15.7MB/s eta 0:00:01\r\u001b[K     |▉                               | 51kB 12.4MB/s eta 0:00:01\r\u001b[K     |█                               | 61kB 10.7MB/s eta 0:00:01\r\u001b[K     |█▏                              | 71kB 10.7MB/s eta 0:00:01\r\u001b[K     |█▍                              | 81kB 11.4MB/s eta 0:00:01\r\u001b[K     |█▌                              | 92kB 11.1MB/s eta 0:00:01\r\u001b[K     |█▊                              | 102kB 10.6MB/s eta 0:00:01\r\u001b[K     |██                              | 112kB 10.6MB/s eta 0:00:01\r\u001b[K     |██                              | 122kB 10.6MB/s eta 0:00:01\r\u001b[K     |██▎                             | 133kB 10.6MB/s eta 0:00:01\r\u001b[K     |██▍                             | 143kB 10.6MB/s eta 0:00:01\r\u001b[K     |██▋                             | 153kB 10.6MB/s eta 0:00:01\r\u001b[K     |██▊                             | 163kB 10.6MB/s eta 0:00:01\r\u001b[K     |███                             | 174kB 10.6MB/s eta 0:00:01\r\u001b[K     |███                             | 184kB 10.6MB/s eta 0:00:01\r\u001b[K     |███▎                            | 194kB 10.6MB/s eta 0:00:01\r\u001b[K     |███▌                            | 204kB 10.6MB/s eta 0:00:01\r\u001b[K     |███▋                            | 215kB 10.6MB/s eta 0:00:01\r\u001b[K     |███▉                            | 225kB 10.6MB/s eta 0:00:01\r\u001b[K     |████                            | 235kB 10.6MB/s eta 0:00:01\r\u001b[K     |████▏                           | 245kB 10.6MB/s eta 0:00:01\r\u001b[K     |████▎                           | 256kB 10.6MB/s eta 0:00:01\r\u001b[K     |████▌                           | 266kB 10.6MB/s eta 0:00:01\r\u001b[K     |████▋                           | 276kB 10.6MB/s eta 0:00:01\r\u001b[K     |████▉                           | 286kB 10.6MB/s eta 0:00:01\r\u001b[K     |█████                           | 296kB 10.6MB/s eta 0:00:01\r\u001b[K     |█████▏                          | 307kB 10.6MB/s eta 0:00:01\r\u001b[K     |█████▍                          | 317kB 10.6MB/s eta 0:00:01\r\u001b[K     |█████▌                          | 327kB 10.6MB/s eta 0:00:01\r\u001b[K     |█████▊                          | 337kB 10.6MB/s eta 0:00:01\r\u001b[K     |█████▉                          | 348kB 10.6MB/s eta 0:00:01\r\u001b[K     |██████                          | 358kB 10.6MB/s eta 0:00:01\r\u001b[K     |██████▏                         | 368kB 10.6MB/s eta 0:00:01\r\u001b[K     |██████▍                         | 378kB 10.6MB/s eta 0:00:01\r\u001b[K     |██████▋                         | 389kB 10.6MB/s eta 0:00:01\r\u001b[K     |██████▊                         | 399kB 10.6MB/s eta 0:00:01\r\u001b[K     |███████                         | 409kB 10.6MB/s eta 0:00:01\r\u001b[K     |███████                         | 419kB 10.6MB/s eta 0:00:01\r\u001b[K     |███████▎                        | 430kB 10.6MB/s eta 0:00:01\r\u001b[K     |███████▍                        | 440kB 10.6MB/s eta 0:00:01\r\u001b[K     |███████▋                        | 450kB 10.6MB/s eta 0:00:01\r\u001b[K     |███████▊                        | 460kB 10.6MB/s eta 0:00:01\r\u001b[K     |████████                        | 471kB 10.6MB/s eta 0:00:01\r\u001b[K     |████████▏                       | 481kB 10.6MB/s eta 0:00:01\r\u001b[K     |████████▎                       | 491kB 10.6MB/s eta 0:00:01\r\u001b[K     |████████▌                       | 501kB 10.6MB/s eta 0:00:01\r\u001b[K     |████████▋                       | 512kB 10.6MB/s eta 0:00:01\r\u001b[K     |████████▉                       | 522kB 10.6MB/s eta 0:00:01\r\u001b[K     |█████████                       | 532kB 10.6MB/s eta 0:00:01\r\u001b[K     |█████████▏                      | 542kB 10.6MB/s eta 0:00:01\r\u001b[K     |█████████▎                      | 552kB 10.6MB/s eta 0:00:01\r\u001b[K     |█████████▌                      | 563kB 10.6MB/s eta 0:00:01\r\u001b[K     |█████████▊                      | 573kB 10.6MB/s eta 0:00:01\r\u001b[K     |█████████▉                      | 583kB 10.6MB/s eta 0:00:01\r\u001b[K     |██████████                      | 593kB 10.6MB/s eta 0:00:01\r\u001b[K     |██████████▏                     | 604kB 10.6MB/s eta 0:00:01\r\u001b[K     |██████████▍                     | 614kB 10.6MB/s eta 0:00:01\r\u001b[K     |██████████▌                     | 624kB 10.6MB/s eta 0:00:01\r\u001b[K     |██████████▊                     | 634kB 10.6MB/s eta 0:00:01\r\u001b[K     |██████████▉                     | 645kB 10.6MB/s eta 0:00:01\r\u001b[K     |███████████                     | 655kB 10.6MB/s eta 0:00:01\r\u001b[K     |███████████▎                    | 665kB 10.6MB/s eta 0:00:01\r\u001b[K     |███████████▍                    | 675kB 10.6MB/s eta 0:00:01\r\u001b[K     |███████████▋                    | 686kB 10.6MB/s eta 0:00:01\r\u001b[K     |███████████▊                    | 696kB 10.6MB/s eta 0:00:01\r\u001b[K     |████████████                    | 706kB 10.6MB/s eta 0:00:01\r\u001b[K     |████████████                    | 716kB 10.6MB/s eta 0:00:01\r\u001b[K     |████████████▎                   | 727kB 10.6MB/s eta 0:00:01\r\u001b[K     |████████████▍                   | 737kB 10.6MB/s eta 0:00:01\r\u001b[K     |████████████▋                   | 747kB 10.6MB/s eta 0:00:01\r\u001b[K     |████████████▉                   | 757kB 10.6MB/s eta 0:00:01\r\u001b[K     |█████████████                   | 768kB 10.6MB/s eta 0:00:01\r\u001b[K     |█████████████▏                  | 778kB 10.6MB/s eta 0:00:01\r\u001b[K     |█████████████▎                  | 788kB 10.6MB/s eta 0:00:01\r\u001b[K     |█████████████▌                  | 798kB 10.6MB/s eta 0:00:01\r\u001b[K     |█████████████▋                  | 808kB 10.6MB/s eta 0:00:01\r\u001b[K     |█████████████▉                  | 819kB 10.6MB/s eta 0:00:01\r\u001b[K     |██████████████                  | 829kB 10.6MB/s eta 0:00:01\r\u001b[K     |██████████████▏                 | 839kB 10.6MB/s eta 0:00:01\r\u001b[K     |██████████████▍                 | 849kB 10.6MB/s eta 0:00:01\r\u001b[K     |██████████████▌                 | 860kB 10.6MB/s eta 0:00:01\r\u001b[K     |██████████████▊                 | 870kB 10.6MB/s eta 0:00:01\r\u001b[K     |██████████████▉                 | 880kB 10.6MB/s eta 0:00:01\r\u001b[K     |███████████████                 | 890kB 10.6MB/s eta 0:00:01\r\u001b[K     |███████████████▏                | 901kB 10.6MB/s eta 0:00:01\r\u001b[K     |███████████████▍                | 911kB 10.6MB/s eta 0:00:01\r\u001b[K     |███████████████▌                | 921kB 10.6MB/s eta 0:00:01\r\u001b[K     |███████████████▊                | 931kB 10.6MB/s eta 0:00:01\r\u001b[K     |████████████████                | 942kB 10.6MB/s eta 0:00:01\r\u001b[K     |████████████████                | 952kB 10.6MB/s eta 0:00:01\r\u001b[K     |████████████████▎               | 962kB 10.6MB/s eta 0:00:01\r\u001b[K     |████████████████▍               | 972kB 10.6MB/s eta 0:00:01\r\u001b[K     |████████████████▋               | 983kB 10.6MB/s eta 0:00:01\r\u001b[K     |████████████████▊               | 993kB 10.6MB/s eta 0:00:01\r\u001b[K     |█████████████████               | 1.0MB 10.6MB/s eta 0:00:01\r\u001b[K     |█████████████████               | 1.0MB 10.6MB/s eta 0:00:01\r\u001b[K     |█████████████████▎              | 1.0MB 10.6MB/s eta 0:00:01\r\u001b[K     |█████████████████▍              | 1.0MB 10.6MB/s eta 0:00:01\r\u001b[K     |█████████████████▋              | 1.0MB 10.6MB/s eta 0:00:01\r\u001b[K     |█████████████████▉              | 1.1MB 10.6MB/s eta 0:00:01\r\u001b[K     |██████████████████              | 1.1MB 10.6MB/s eta 0:00:01\r\u001b[K     |██████████████████▏             | 1.1MB 10.6MB/s eta 0:00:01\r\u001b[K     |██████████████████▎             | 1.1MB 10.6MB/s eta 0:00:01\r\u001b[K     |██████████████████▌             | 1.1MB 10.6MB/s eta 0:00:01\r\u001b[K     |██████████████████▋             | 1.1MB 10.6MB/s eta 0:00:01\r\u001b[K     |██████████████████▉             | 1.1MB 10.6MB/s eta 0:00:01\r\u001b[K     |███████████████████             | 1.1MB 10.6MB/s eta 0:00:01\r\u001b[K     |███████████████████▏            | 1.1MB 10.6MB/s eta 0:00:01\r\u001b[K     |███████████████████▍            | 1.1MB 10.6MB/s eta 0:00:01\r\u001b[K     |███████████████████▌            | 1.2MB 10.6MB/s eta 0:00:01\r\u001b[K     |███████████████████▊            | 1.2MB 10.6MB/s eta 0:00:01\r\u001b[K     |███████████████████▉            | 1.2MB 10.6MB/s eta 0:00:01\r\u001b[K     |████████████████████            | 1.2MB 10.6MB/s eta 0:00:01\r\u001b[K     |████████████████████▏           | 1.2MB 10.6MB/s eta 0:00:01\r\u001b[K     |████████████████████▍           | 1.2MB 10.6MB/s eta 0:00:01\r\u001b[K     |████████████████████▌           | 1.2MB 10.6MB/s eta 0:00:01\r\u001b[K     |████████████████████▊           | 1.2MB 10.6MB/s eta 0:00:01\r\u001b[K     |█████████████████████           | 1.2MB 10.6MB/s eta 0:00:01\r\u001b[K     |█████████████████████           | 1.2MB 10.6MB/s eta 0:00:01\r\u001b[K     |█████████████████████▎          | 1.3MB 10.6MB/s eta 0:00:01\r\u001b[K     |█████████████████████▍          | 1.3MB 10.6MB/s eta 0:00:01\r\u001b[K     |█████████████████████▋          | 1.3MB 10.6MB/s eta 0:00:01\r\u001b[K     |█████████████████████▊          | 1.3MB 10.6MB/s eta 0:00:01\r\u001b[K     |██████████████████████          | 1.3MB 10.6MB/s eta 0:00:01\r\u001b[K     |██████████████████████          | 1.3MB 10.6MB/s eta 0:00:01\r\u001b[K     |██████████████████████▎         | 1.3MB 10.6MB/s eta 0:00:01\r\u001b[K     |██████████████████████▌         | 1.3MB 10.6MB/s eta 0:00:01\r\u001b[K     |██████████████████████▋         | 1.3MB 10.6MB/s eta 0:00:01\r\u001b[K     |██████████████████████▉         | 1.4MB 10.6MB/s eta 0:00:01\r\u001b[K     |███████████████████████         | 1.4MB 10.6MB/s eta 0:00:01\r\u001b[K     |███████████████████████▏        | 1.4MB 10.6MB/s eta 0:00:01\r\u001b[K     |███████████████████████▎        | 1.4MB 10.6MB/s eta 0:00:01\r\u001b[K     |███████████████████████▌        | 1.4MB 10.6MB/s eta 0:00:01\r\u001b[K     |███████████████████████▋        | 1.4MB 10.6MB/s eta 0:00:01\r\u001b[K     |███████████████████████▉        | 1.4MB 10.6MB/s eta 0:00:01\r\u001b[K     |████████████████████████        | 1.4MB 10.6MB/s eta 0:00:01\r\u001b[K     |████████████████████████▏       | 1.4MB 10.6MB/s eta 0:00:01\r\u001b[K     |████████████████████████▍       | 1.4MB 10.6MB/s eta 0:00:01\r\u001b[K     |████████████████████████▌       | 1.5MB 10.6MB/s eta 0:00:01\r\u001b[K     |████████████████████████▊       | 1.5MB 10.6MB/s eta 0:00:01\r\u001b[K     |████████████████████████▉       | 1.5MB 10.6MB/s eta 0:00:01\r\u001b[K     |█████████████████████████       | 1.5MB 10.6MB/s eta 0:00:01\r\u001b[K     |█████████████████████████▏      | 1.5MB 10.6MB/s eta 0:00:01\r\u001b[K     |█████████████████████████▍      | 1.5MB 10.6MB/s eta 0:00:01\r\u001b[K     |█████████████████████████▋      | 1.5MB 10.6MB/s eta 0:00:01\r\u001b[K     |█████████████████████████▊      | 1.5MB 10.6MB/s eta 0:00:01\r\u001b[K     |██████████████████████████      | 1.5MB 10.6MB/s eta 0:00:01\r\u001b[K     |██████████████████████████      | 1.5MB 10.6MB/s eta 0:00:01\r\u001b[K     |██████████████████████████▎     | 1.6MB 10.6MB/s eta 0:00:01\r\u001b[K     |██████████████████████████▍     | 1.6MB 10.6MB/s eta 0:00:01\r\u001b[K     |██████████████████████████▋     | 1.6MB 10.6MB/s eta 0:00:01\r\u001b[K     |██████████████████████████▊     | 1.6MB 10.6MB/s eta 0:00:01\r\u001b[K     |███████████████████████████     | 1.6MB 10.6MB/s eta 0:00:01\r\u001b[K     |███████████████████████████▏    | 1.6MB 10.6MB/s eta 0:00:01\r\u001b[K     |███████████████████████████▎    | 1.6MB 10.6MB/s eta 0:00:01\r\u001b[K     |███████████████████████████▌    | 1.6MB 10.6MB/s eta 0:00:01\r\u001b[K     |███████████████████████████▋    | 1.6MB 10.6MB/s eta 0:00:01\r\u001b[K     |███████████████████████████▉    | 1.6MB 10.6MB/s eta 0:00:01\r\u001b[K     |████████████████████████████    | 1.7MB 10.6MB/s eta 0:00:01\r\u001b[K     |████████████████████████████▏   | 1.7MB 10.6MB/s eta 0:00:01\r\u001b[K     |████████████████████████████▎   | 1.7MB 10.6MB/s eta 0:00:01\r\u001b[K     |████████████████████████████▌   | 1.7MB 10.6MB/s eta 0:00:01\r\u001b[K     |████████████████████████████▊   | 1.7MB 10.6MB/s eta 0:00:01\r\u001b[K     |████████████████████████████▉   | 1.7MB 10.6MB/s eta 0:00:01\r\u001b[K     |█████████████████████████████   | 1.7MB 10.6MB/s eta 0:00:01\r\u001b[K     |█████████████████████████████▏  | 1.7MB 10.6MB/s eta 0:00:01\r\u001b[K     |█████████████████████████████▍  | 1.7MB 10.6MB/s eta 0:00:01\r\u001b[K     |█████████████████████████████▌  | 1.8MB 10.6MB/s eta 0:00:01\r\u001b[K     |█████████████████████████████▊  | 1.8MB 10.6MB/s eta 0:00:01\r\u001b[K     |█████████████████████████████▉  | 1.8MB 10.6MB/s eta 0:00:01\r\u001b[K     |██████████████████████████████  | 1.8MB 10.6MB/s eta 0:00:01\r\u001b[K     |██████████████████████████████▎ | 1.8MB 10.6MB/s eta 0:00:01\r\u001b[K     |██████████████████████████████▍ | 1.8MB 10.6MB/s eta 0:00:01\r\u001b[K     |██████████████████████████████▋ | 1.8MB 10.6MB/s eta 0:00:01\r\u001b[K     |██████████████████████████████▊ | 1.8MB 10.6MB/s eta 0:00:01\r\u001b[K     |███████████████████████████████ | 1.8MB 10.6MB/s eta 0:00:01\r\u001b[K     |███████████████████████████████ | 1.8MB 10.6MB/s eta 0:00:01\r\u001b[K     |███████████████████████████████▎| 1.9MB 10.6MB/s eta 0:00:01\r\u001b[K     |███████████████████████████████▍| 1.9MB 10.6MB/s eta 0:00:01\r\u001b[K     |███████████████████████████████▋| 1.9MB 10.6MB/s eta 0:00:01\r\u001b[K     |███████████████████████████████▉| 1.9MB 10.6MB/s eta 0:00:01\r\u001b[K     |████████████████████████████████| 1.9MB 10.6MB/s eta 0:00:01\r\u001b[K     |████████████████████████████████| 1.9MB 10.6MB/s \n",
            "\u001b[?25hRequirement already satisfied: regex!=2019.12.17 in /usr/local/lib/python3.7/dist-packages (from transformers) (2019.12.20)\n",
            "Requirement already satisfied: importlib-metadata; python_version < \"3.8\" in /usr/local/lib/python3.7/dist-packages (from transformers) (3.7.0)\n",
            "Requirement already satisfied: filelock in /usr/local/lib/python3.7/dist-packages (from transformers) (3.0.12)\n",
            "Collecting tokenizers<0.11,>=0.10.1\n",
            "\u001b[?25l  Downloading https://files.pythonhosted.org/packages/71/23/2ddc317b2121117bf34dd00f5b0de194158f2a44ee2bf5e47c7166878a97/tokenizers-0.10.1-cp37-cp37m-manylinux2010_x86_64.whl (3.2MB)\n",
            "\u001b[K     |████████████████████████████████| 3.2MB 37.5MB/s \n",
            "\u001b[?25hCollecting sacremoses\n",
            "\u001b[?25l  Downloading https://files.pythonhosted.org/packages/7d/34/09d19aff26edcc8eb2a01bed8e98f13a1537005d31e95233fd48216eed10/sacremoses-0.0.43.tar.gz (883kB)\n",
            "\u001b[K     |████████████████████████████████| 890kB 36.6MB/s \n",
            "\u001b[?25hRequirement already satisfied: numpy>=1.17 in /usr/local/lib/python3.7/dist-packages (from transformers) (1.19.5)\n",
            "Requirement already satisfied: tqdm>=4.27 in /usr/local/lib/python3.7/dist-packages (from transformers) (4.41.1)\n",
            "Requirement already satisfied: requests in /usr/local/lib/python3.7/dist-packages (from transformers) (2.23.0)\n",
            "Requirement already satisfied: packaging in /usr/local/lib/python3.7/dist-packages (from transformers) (20.9)\n",
            "Requirement already satisfied: zipp>=0.5 in /usr/local/lib/python3.7/dist-packages (from importlib-metadata; python_version < \"3.8\"->transformers) (3.4.1)\n",
            "Requirement already satisfied: typing-extensions>=3.6.4; python_version < \"3.8\" in /usr/local/lib/python3.7/dist-packages (from importlib-metadata; python_version < \"3.8\"->transformers) (3.7.4.3)\n",
            "Requirement already satisfied: six in /usr/local/lib/python3.7/dist-packages (from sacremoses->transformers) (1.15.0)\n",
            "Requirement already satisfied: click in /usr/local/lib/python3.7/dist-packages (from sacremoses->transformers) (7.1.2)\n",
            "Requirement already satisfied: joblib in /usr/local/lib/python3.7/dist-packages (from sacremoses->transformers) (1.0.1)\n",
            "Requirement already satisfied: idna<3,>=2.5 in /usr/local/lib/python3.7/dist-packages (from requests->transformers) (2.10)\n",
            "Requirement already satisfied: chardet<4,>=3.0.2 in /usr/local/lib/python3.7/dist-packages (from requests->transformers) (3.0.4)\n",
            "Requirement already satisfied: certifi>=2017.4.17 in /usr/local/lib/python3.7/dist-packages (from requests->transformers) (2020.12.5)\n",
            "Requirement already satisfied: urllib3!=1.25.0,!=1.25.1,<1.26,>=1.21.1 in /usr/local/lib/python3.7/dist-packages (from requests->transformers) (1.24.3)\n",
            "Requirement already satisfied: pyparsing>=2.0.2 in /usr/local/lib/python3.7/dist-packages (from packaging->transformers) (2.4.7)\n",
            "Building wheels for collected packages: sacremoses\n",
            "  Building wheel for sacremoses (setup.py) ... \u001b[?25l\u001b[?25hdone\n",
            "  Created wheel for sacremoses: filename=sacremoses-0.0.43-cp37-none-any.whl size=893262 sha256=8e59b4bf8db0ab2b542d2fd061b36ada1318a60b7eee9c36ed7d8b8e935ee850\n",
            "  Stored in directory: /root/.cache/pip/wheels/29/3c/fd/7ce5c3f0666dab31a50123635e6fb5e19ceb42ce38d4e58f45\n",
            "Successfully built sacremoses\n",
            "Installing collected packages: tokenizers, sacremoses, transformers\n",
            "Successfully installed sacremoses-0.0.43 tokenizers-0.10.1 transformers-4.3.3\n"
          ],
          "name": "stdout"
        }
      ]
    },
    {
      "cell_type": "code",
      "metadata": {
        "id": "Ayl7u3C1bJqZ"
      },
      "source": [
        "from tqdm import tqdm, trange"
      ],
      "execution_count": 3,
      "outputs": []
    },
    {
      "cell_type": "code",
      "metadata": {
        "id": "W5W2QCqNbMT5"
      },
      "source": [
        "import pickle"
      ],
      "execution_count": 4,
      "outputs": []
    },
    {
      "cell_type": "code",
      "metadata": {
        "id": "Qo83dM_ippaH"
      },
      "source": [
        "train_df = pd.read_csv('/content/drive/MyDrive/Colab Notebooks/sep_df_Train.csv') #Set Dir\r\n",
        "test_df = pd.read_csv('/content/drive/MyDrive/Colab Notebooks/sep_df_Test.csv') #Set Dir"
      ],
      "execution_count": 5,
      "outputs": []
    },
    {
      "cell_type": "code",
      "metadata": {
        "id": "c_6MefnabNQW"
      },
      "source": [
        "import ast\r\n",
        "train_df['words'] = train_df['words'].apply(ast.literal_eval)\r\n",
        "train_df['tags'] = train_df['tags'].apply(ast.literal_eval)\r\n",
        "test_df['words'] = test_df['words'].apply(ast.literal_eval)\r\n",
        "test_df['tags'] = test_df['tags'].apply(ast.literal_eval)\r\n",
        "\r\n",
        "train_words = train_df.words\r\n",
        "train_tags = train_df.tags\r\n",
        "\r\n",
        "test_words = test_df.words\r\n",
        "test_tags = test_df.tags"
      ],
      "execution_count": 6,
      "outputs": []
    },
    {
      "cell_type": "code",
      "metadata": {
        "id": "L4CtGYX6pmfQ"
      },
      "source": [
        "\r\n",
        "New_train_words , New_train_tags =  train_df['words'], train_df['tags']\r\n",
        "New_test_words , New_test_tags =  test_df['words'], test_df['tags']"
      ],
      "execution_count": 7,
      "outputs": []
    },
    {
      "cell_type": "code",
      "metadata": {
        "id": "LUSt8SUipyW9"
      },
      "source": [
        "class SentenceGetter(object):\r\n",
        "\r\n",
        "    def __init__(self, data):\r\n",
        "        self.n_sent = 1\r\n",
        "        self.data = data\r\n",
        "        self.empty = False\r\n",
        "        agg_func = lambda s: [(w, p, t) for w, p, t in zip(s[\"Word\"].values.tolist(),\r\n",
        "                                                           s[\"POS\"].values.tolist(),\r\n",
        "                                                           s[\"Tag\"].values.tolist())]\r\n",
        "        self.grouped = self.data.groupby(\"Sentence #\").apply(agg_func)\r\n",
        "        self.sentences = [s for s in self.grouped]\r\n",
        "\r\n",
        "    def get_next(self):\r\n",
        "        try:\r\n",
        "            s = self.grouped[\"Sentence: {}\".format(self.n_sent)]\r\n",
        "            self.n_sent += 1\r\n",
        "            return s\r\n",
        "        except:\r\n",
        "            return None"
      ],
      "execution_count": 8,
      "outputs": []
    },
    {
      "cell_type": "code",
      "metadata": {
        "id": "8-NE_ZmCp2ro"
      },
      "source": [
        "train_sentences = New_train_words\r\n",
        "test_sentences = New_test_words\r\n",
        "train_labels =  New_train_tags\r\n",
        "test_labels = New_test_tags"
      ],
      "execution_count": 9,
      "outputs": []
    },
    {
      "cell_type": "code",
      "metadata": {
        "colab": {
          "base_uri": "https://localhost:8080/",
          "height": 410
        },
        "id": "PYO3afGLp5T4",
        "outputId": "5d1a9452-600b-4375-be18-577268719b50"
      },
      "source": [
        "data = pd.read_csv('/content/drive/MyDrive/Colab Notebooks/dataframe.csv') #Set Dir\r\n",
        "\r\n",
        "data"
      ],
      "execution_count": 10,
      "outputs": [
        {
          "output_type": "execute_result",
          "data": {
            "text/html": [
              "<div>\n",
              "<style scoped>\n",
              "    .dataframe tbody tr th:only-of-type {\n",
              "        vertical-align: middle;\n",
              "    }\n",
              "\n",
              "    .dataframe tbody tr th {\n",
              "        vertical-align: top;\n",
              "    }\n",
              "\n",
              "    .dataframe thead th {\n",
              "        text-align: right;\n",
              "    }\n",
              "</style>\n",
              "<table border=\"1\" class=\"dataframe\">\n",
              "  <thead>\n",
              "    <tr style=\"text-align: right;\">\n",
              "      <th></th>\n",
              "      <th>Unnamed: 0</th>\n",
              "      <th>Word</th>\n",
              "      <th>Tag</th>\n",
              "    </tr>\n",
              "  </thead>\n",
              "  <tbody>\n",
              "    <tr>\n",
              "      <th>0</th>\n",
              "      <td>0</td>\n",
              "      <td>Record</td>\n",
              "      <td>O</td>\n",
              "    </tr>\n",
              "    <tr>\n",
              "      <th>1</th>\n",
              "      <td>1</td>\n",
              "      <td>date:</td>\n",
              "      <td>O</td>\n",
              "    </tr>\n",
              "    <tr>\n",
              "      <th>2</th>\n",
              "      <td>2</td>\n",
              "      <td>2083-10-18</td>\n",
              "      <td>B-DATE</td>\n",
              "    </tr>\n",
              "    <tr>\n",
              "      <th>3</th>\n",
              "      <td>3</td>\n",
              "      <td>CARDIOLOGY</td>\n",
              "      <td>O</td>\n",
              "    </tr>\n",
              "    <tr>\n",
              "      <th>4</th>\n",
              "      <td>4</td>\n",
              "      <td>WETZEL</td>\n",
              "      <td>B-HOSPITAL</td>\n",
              "    </tr>\n",
              "    <tr>\n",
              "      <th>...</th>\n",
              "      <td>...</td>\n",
              "      <td>...</td>\n",
              "      <td>...</td>\n",
              "    </tr>\n",
              "    <tr>\n",
              "      <th>815121</th>\n",
              "      <td>815121</td>\n",
              "      <td>Frank</td>\n",
              "      <td>B-DOCTOR</td>\n",
              "    </tr>\n",
              "    <tr>\n",
              "      <th>815122</th>\n",
              "      <td>815122</td>\n",
              "      <td>T.</td>\n",
              "      <td>I-DOCTOR</td>\n",
              "    </tr>\n",
              "    <tr>\n",
              "      <th>815123</th>\n",
              "      <td>815123</td>\n",
              "      <td>Xuan</td>\n",
              "      <td>I-DOCTOR</td>\n",
              "    </tr>\n",
              "    <tr>\n",
              "      <th>815124</th>\n",
              "      <td>815124</td>\n",
              "      <td>,</td>\n",
              "      <td>O</td>\n",
              "    </tr>\n",
              "    <tr>\n",
              "      <th>815125</th>\n",
              "      <td>815125</td>\n",
              "      <td>M.D.</td>\n",
              "      <td>O</td>\n",
              "    </tr>\n",
              "  </tbody>\n",
              "</table>\n",
              "<p>815126 rows × 3 columns</p>\n",
              "</div>"
            ],
            "text/plain": [
              "        Unnamed: 0        Word         Tag\n",
              "0                0      Record           O\n",
              "1                1       date:           O\n",
              "2                2  2083-10-18      B-DATE\n",
              "3                3  CARDIOLOGY           O\n",
              "4                4      WETZEL  B-HOSPITAL\n",
              "...            ...         ...         ...\n",
              "815121      815121       Frank    B-DOCTOR\n",
              "815122      815122          T.    I-DOCTOR\n",
              "815123      815123        Xuan    I-DOCTOR\n",
              "815124      815124           ,           O\n",
              "815125      815125        M.D.           O\n",
              "\n",
              "[815126 rows x 3 columns]"
            ]
          },
          "metadata": {
            "tags": []
          },
          "execution_count": 10
        }
      ]
    },
    {
      "cell_type": "code",
      "metadata": {
        "id": "zVWeeDSyp70J"
      },
      "source": [
        "tag_values = list(set(data[\"Tag\"].values))\r\n",
        "tag_values.append(\"PAD\")\r\n",
        "tag2idx = {t: i for i, t in enumerate(tag_values)}"
      ],
      "execution_count": 11,
      "outputs": []
    },
    {
      "cell_type": "code",
      "metadata": {
        "colab": {
          "base_uri": "https://localhost:8080/",
          "height": 34
        },
        "id": "BwLorGMSp9ee",
        "outputId": "a2ea1eb3-315f-4812-a25c-87ca1afec20b"
      },
      "source": [
        "import torch\r\n",
        "from torch.utils.data import TensorDataset, DataLoader, RandomSampler, SequentialSampler\r\n",
        "from transformers import BertTokenizer, BertConfig\r\n",
        "\r\n",
        "from keras.preprocessing.sequence import pad_sequences\r\n",
        "from sklearn.model_selection import train_test_split\r\n",
        "\r\n",
        "torch.__version__"
      ],
      "execution_count": 12,
      "outputs": [
        {
          "output_type": "execute_result",
          "data": {
            "application/vnd.google.colaboratory.intrinsic+json": {
              "type": "string"
            },
            "text/plain": [
              "'1.8.0+cu101'"
            ]
          },
          "metadata": {
            "tags": []
          },
          "execution_count": 12
        }
      ]
    },
    {
      "cell_type": "code",
      "metadata": {
        "id": "ta6kRw-Kp_Mp"
      },
      "source": [
        "MAX_LEN = 256\r\n",
        "bs = 32"
      ],
      "execution_count": 13,
      "outputs": []
    },
    {
      "cell_type": "code",
      "metadata": {
        "id": "6DtOTiETqA7X"
      },
      "source": [
        "\r\n",
        "device = torch.device(\"cuda\" if torch.cuda.is_available() else \"cpu\")\r\n",
        "n_gpu = torch.cuda.device_count()"
      ],
      "execution_count": 14,
      "outputs": []
    },
    {
      "cell_type": "code",
      "metadata": {
        "colab": {
          "base_uri": "https://localhost:8080/",
          "height": 34
        },
        "id": "RsCOuTAnqCSo",
        "outputId": "9fef12d8-6295-4853-efca-61cbe9bcef0d"
      },
      "source": [
        "torch.cuda.get_device_name(0)\r\n"
      ],
      "execution_count": 15,
      "outputs": [
        {
          "output_type": "execute_result",
          "data": {
            "application/vnd.google.colaboratory.intrinsic+json": {
              "type": "string"
            },
            "text/plain": [
              "'Tesla K80'"
            ]
          },
          "metadata": {
            "tags": []
          },
          "execution_count": 15
        }
      ]
    },
    {
      "cell_type": "code",
      "metadata": {
        "colab": {
          "base_uri": "https://localhost:8080/",
          "height": 66,
          "referenced_widgets": [
            "6693834ea77f42c8a60ef650a6f4200b",
            "3f6b74c0bc7e48bcaaac696d99ba7199",
            "d22eb73559224d9da63a8ae06c4464c3",
            "295dea75538d458eb8e31b4e7677e64c",
            "3659b9ba08224ee99c69c8866b6f21e0",
            "90b1d4aa343b446a92d111ed65e681c3",
            "a8b9f34edd1a420b97524042f7216895",
            "74ed007695854d19b49d8a278d67484d"
          ]
        },
        "id": "tD0jCaNnqDnf",
        "outputId": "5ccc08bb-7f3b-4769-af25-15e5b93e6e74"
      },
      "source": [
        "tokenizer = BertTokenizer.from_pretrained('emilyalsentzer/Bio_ClinicalBERT', do_lower_case=False)\r\n"
      ],
      "execution_count": 16,
      "outputs": [
        {
          "output_type": "display_data",
          "data": {
            "application/vnd.jupyter.widget-view+json": {
              "model_id": "6693834ea77f42c8a60ef650a6f4200b",
              "version_minor": 0,
              "version_major": 2
            },
            "text/plain": [
              "HBox(children=(FloatProgress(value=0.0, description='Downloading', max=213450.0, style=ProgressStyle(descripti…"
            ]
          },
          "metadata": {
            "tags": []
          }
        },
        {
          "output_type": "stream",
          "text": [
            "\n"
          ],
          "name": "stdout"
        }
      ]
    },
    {
      "cell_type": "code",
      "metadata": {
        "id": "L-s8f7tUqE36"
      },
      "source": [
        "def tokenize_and_preserve_labels(sentence, text_labels):\r\n",
        "    tokenized_sentence = []\r\n",
        "    labels = []\r\n",
        "\r\n",
        "    for word, label in zip(sentence, text_labels):\r\n",
        "\r\n",
        "        # Tokenize the word and count # of subwords the word is broken into\r\n",
        "        tokenized_word = tokenizer.tokenize(word)\r\n",
        "        n_subwords = len(tokenized_word)\r\n",
        "\r\n",
        "        # Add the tokenized word to the final tokenized word list\r\n",
        "        tokenized_sentence.extend(tokenized_word)\r\n",
        "\r\n",
        "        # Add the same label to the new list of labels `n_subwords` times\r\n",
        "        labels.extend([label] * n_subwords)\r\n",
        "\r\n",
        "    return tokenized_sentence, labels"
      ],
      "execution_count": 17,
      "outputs": []
    },
    {
      "cell_type": "code",
      "metadata": {
        "id": "gq7G6GiaqG-i"
      },
      "source": [
        "\r\n",
        "train_tokenized_texts_and_labels = [\r\n",
        "    tokenize_and_preserve_labels(sent, labs)\r\n",
        "    for sent, labs in zip(train_sentences, train_labels)\r\n",
        "]\r\n",
        "\r\n",
        "test_tokenized_texts_and_labels = [\r\n",
        "    tokenize_and_preserve_labels(sent, labs)\r\n",
        "    for sent, labs in zip(test_sentences, test_labels)\r\n",
        "]"
      ],
      "execution_count": 18,
      "outputs": []
    },
    {
      "cell_type": "code",
      "metadata": {
        "id": "7tId2OPUqInw"
      },
      "source": [
        "train_tokenized_texts = [token_label_pair[0] for token_label_pair in train_tokenized_texts_and_labels]\r\n",
        "train_labels = [token_label_pair[1] for token_label_pair in train_tokenized_texts_and_labels]\r\n",
        "\r\n",
        "test_tokenize_texts = [token_label_pair[0] for token_label_pair in test_tokenized_texts_and_labels]\r\n",
        "test_labels = [token_label_pair[1] for token_label_pair in test_tokenized_texts_and_labels]"
      ],
      "execution_count": 19,
      "outputs": []
    },
    {
      "cell_type": "code",
      "metadata": {
        "colab": {
          "base_uri": "https://localhost:8080/"
        },
        "id": "MbBk__lMqLFY",
        "outputId": "db6d46f9-523c-4f71-bda3-e720018810ef"
      },
      "source": [
        "test_tokenize_texts[0][:10], test_labels[0][:10]\r\n"
      ],
      "execution_count": 20,
      "outputs": [
        {
          "output_type": "execute_result",
          "data": {
            "text/plain": [
              "(['Record', 'date', ':', '206', '##8', '-', '03', '-', '31', 'E'],\n",
              " ['O',\n",
              "  'O',\n",
              "  'O',\n",
              "  'B-DATE',\n",
              "  'B-DATE',\n",
              "  'B-DATE',\n",
              "  'B-DATE',\n",
              "  'B-DATE',\n",
              "  'B-DATE',\n",
              "  'B-HOSPITAL'])"
            ]
          },
          "metadata": {
            "tags": []
          },
          "execution_count": 20
        }
      ]
    },
    {
      "cell_type": "code",
      "metadata": {
        "id": "tXYq0IqWqUod"
      },
      "source": [
        "\r\n",
        "train_input_ids = pad_sequences([tokenizer.convert_tokens_to_ids(txt) for txt in train_tokenized_texts],\r\n",
        "                          maxlen=MAX_LEN, dtype=\"long\", value=0.0,\r\n",
        "                          truncating=\"post\", padding=\"post\")\r\n",
        "\r\n",
        "test_input_ids = pad_sequences([tokenizer.convert_tokens_to_ids(txt) for txt in test_tokenize_texts],\r\n",
        "                          maxlen=MAX_LEN, dtype=\"long\", value=0.0,\r\n",
        "                          truncating=\"post\", padding=\"post\")"
      ],
      "execution_count": 21,
      "outputs": []
    },
    {
      "cell_type": "code",
      "metadata": {
        "id": "6by6BN-BqWOM"
      },
      "source": [
        "train_tags = pad_sequences([[tag2idx.get(l) for l in lab] for lab in train_labels],\r\n",
        "                     maxlen=MAX_LEN, value=tag2idx[\"PAD\"], padding=\"post\",\r\n",
        "                     dtype=\"long\", truncating=\"post\")\r\n",
        "\r\n",
        "test_tags = pad_sequences([[tag2idx.get(l) for l in lab] for lab in test_labels],\r\n",
        "                     maxlen=MAX_LEN, value=tag2idx[\"PAD\"], padding=\"post\",\r\n",
        "                     dtype=\"long\", truncating=\"post\")\r\n"
      ],
      "execution_count": 22,
      "outputs": []
    },
    {
      "cell_type": "code",
      "metadata": {
        "id": "j4xwMJe1qYQz"
      },
      "source": [
        "train_attention_masks = [[float(i != 0.0) for i in ii] for ii in train_input_ids]\r\n",
        "test_attention_masks = [[float(i != 0.0) for i in ii] for ii in test_input_ids]"
      ],
      "execution_count": 23,
      "outputs": []
    },
    {
      "cell_type": "code",
      "metadata": {
        "id": "1Wyxy-snqaNZ"
      },
      "source": [
        "tr_inputs, val_inputs, tr_tags, val_tags = train_input_ids, test_input_ids, train_tags, test_tags\r\n",
        "\r\n",
        "tr_masks, val_masks = train_attention_masks, test_attention_masks"
      ],
      "execution_count": 24,
      "outputs": []
    },
    {
      "cell_type": "code",
      "metadata": {
        "id": "9YrGpDz9r3yl"
      },
      "source": [
        "tr_inputs = torch.tensor(tr_inputs)\r\n",
        "val_inputs = torch.tensor(val_inputs)\r\n",
        "tr_tags = torch.tensor(tr_tags)\r\n",
        "val_tags = torch.tensor(val_tags)\r\n",
        "tr_masks = torch.tensor(tr_masks)\r\n",
        "val_masks = torch.tensor(val_masks)"
      ],
      "execution_count": 25,
      "outputs": []
    },
    {
      "cell_type": "code",
      "metadata": {
        "id": "_UmGbChNr5Wj"
      },
      "source": [
        "train_data = TensorDataset(tr_inputs, tr_masks, tr_tags)\r\n",
        "train_sampler = RandomSampler(train_data)\r\n",
        "train_dataloader = DataLoader(train_data, sampler=train_sampler, batch_size=bs)\r\n",
        "\r\n",
        "valid_data = TensorDataset(val_inputs, val_masks, val_tags)\r\n",
        "valid_sampler = SequentialSampler(valid_data)\r\n",
        "valid_dataloader = DataLoader(valid_data, sampler=valid_sampler, batch_size=bs)"
      ],
      "execution_count": 26,
      "outputs": []
    },
    {
      "cell_type": "code",
      "metadata": {
        "colab": {
          "base_uri": "https://localhost:8080/",
          "height": 34
        },
        "id": "oK9Wd749r62r",
        "outputId": "cc68af86-abb9-4fcf-e71e-108992f9a4e7"
      },
      "source": [
        "\r\n",
        "import transformers\r\n",
        "from transformers import BertForTokenClassification, AdamW\r\n",
        "\r\n",
        "transformers.__version__"
      ],
      "execution_count": 27,
      "outputs": [
        {
          "output_type": "execute_result",
          "data": {
            "application/vnd.google.colaboratory.intrinsic+json": {
              "type": "string"
            },
            "text/plain": [
              "'4.3.3'"
            ]
          },
          "metadata": {
            "tags": []
          },
          "execution_count": 27
        }
      ]
    },
    {
      "cell_type": "code",
      "metadata": {
        "colab": {
          "base_uri": "https://localhost:8080/",
          "height": 224,
          "referenced_widgets": [
            "a7c4c33c3edd4cdf9ed8b1396f37cd1a",
            "1f38ed097c7f4fc68f5fde177dc232f6",
            "fbfd76dda4444ba3bb51837d7e64c886",
            "2ea5481d6a1949f4a8d4e7589ff5dc27",
            "6d96ebb83cc34383b3dccea1e6d357ef",
            "87882838341f4fa786d94a9f72f9617b",
            "6bd8b089c2554c27aaeed8f8bcaf980a",
            "8a6fb3d893594a9195a20edc3a6b942e",
            "cb20cfeef2d54430b5be320780b3ea88",
            "e12da47258984f9ba610aeff2670de61",
            "7311ff1a735c44d589c012fe1a7cd9ad",
            "b42b3388ae96442d848a8c667af48124",
            "dec8aff0e6574cb2bd8ca61582ca4999",
            "ef27e2a6516d4503866866910a28b39d",
            "36d6a4c46d3c4527910a12bddfb7d77b",
            "be854c029e9e40479979c7ada84b8fac"
          ]
        },
        "id": "zsBNIS7or8iW",
        "outputId": "4a541fa9-e874-4f0c-eec9-3087264f94c3"
      },
      "source": [
        "\r\n",
        "model = BertForTokenClassification.from_pretrained(\r\n",
        "    \"emilyalsentzer/Bio_ClinicalBERT\",\r\n",
        "    num_labels=len(tag2idx),\r\n",
        "    output_attentions = False,\r\n",
        "    output_hidden_states = False\r\n",
        ")"
      ],
      "execution_count": 28,
      "outputs": [
        {
          "output_type": "display_data",
          "data": {
            "application/vnd.jupyter.widget-view+json": {
              "model_id": "a7c4c33c3edd4cdf9ed8b1396f37cd1a",
              "version_minor": 0,
              "version_major": 2
            },
            "text/plain": [
              "HBox(children=(FloatProgress(value=0.0, description='Downloading', max=385.0, style=ProgressStyle(description_…"
            ]
          },
          "metadata": {
            "tags": []
          }
        },
        {
          "output_type": "stream",
          "text": [
            "\n"
          ],
          "name": "stdout"
        },
        {
          "output_type": "display_data",
          "data": {
            "application/vnd.jupyter.widget-view+json": {
              "model_id": "cb20cfeef2d54430b5be320780b3ea88",
              "version_minor": 0,
              "version_major": 2
            },
            "text/plain": [
              "HBox(children=(FloatProgress(value=0.0, description='Downloading', max=435778770.0, style=ProgressStyle(descri…"
            ]
          },
          "metadata": {
            "tags": []
          }
        },
        {
          "output_type": "stream",
          "text": [
            "\n"
          ],
          "name": "stdout"
        },
        {
          "output_type": "stream",
          "text": [
            "Some weights of the model checkpoint at emilyalsentzer/Bio_ClinicalBERT were not used when initializing BertForTokenClassification: ['cls.predictions.bias', 'cls.predictions.transform.dense.weight', 'cls.predictions.transform.dense.bias', 'cls.predictions.transform.LayerNorm.weight', 'cls.predictions.transform.LayerNorm.bias', 'cls.predictions.decoder.weight', 'cls.seq_relationship.weight', 'cls.seq_relationship.bias']\n",
            "- This IS expected if you are initializing BertForTokenClassification from the checkpoint of a model trained on another task or with another architecture (e.g. initializing a BertForSequenceClassification model from a BertForPreTraining model).\n",
            "- This IS NOT expected if you are initializing BertForTokenClassification from the checkpoint of a model that you expect to be exactly identical (initializing a BertForSequenceClassification model from a BertForSequenceClassification model).\n",
            "Some weights of BertForTokenClassification were not initialized from the model checkpoint at emilyalsentzer/Bio_ClinicalBERT and are newly initialized: ['classifier.weight', 'classifier.bias']\n",
            "You should probably TRAIN this model on a down-stream task to be able to use it for predictions and inference.\n"
          ],
          "name": "stderr"
        }
      ]
    },
    {
      "cell_type": "code",
      "metadata": {
        "id": "Egse0nwur-9T"
      },
      "source": [
        "import torch.nn as nn\r\n",
        "import torch.nn.functional as F\r\n",
        "\r\n",
        "\r\n",
        "class Highway(nn.Module):\r\n",
        "    def __init__(self, size, num_layers, f):\r\n",
        "\r\n",
        "        super(Highway, self).__init__()\r\n",
        "\r\n",
        "        self.num_layers = num_layers\r\n",
        "\r\n",
        "        self.nonlinear = nn.ModuleList([nn.Linear(size, size) for _ in range(num_layers)])\r\n",
        "\r\n",
        "        self.linear = nn.ModuleList([nn.Linear(size, size) for _ in range(num_layers)])\r\n",
        "\r\n",
        "        self.gate = nn.ModuleList([nn.Linear(size, size) for _ in range(num_layers)])\r\n",
        "\r\n",
        "        self.f = f\r\n",
        "\r\n",
        "    def forward(self, x):\r\n",
        "        \"\"\"\r\n",
        "            :param x: tensor with shape of [batch_size, size]\r\n",
        "            :return: tensor with shape of [batch_size, size]\r\n",
        "            applies σ(x) ⨀ (f(G(x))) + (1 - σ(x)) ⨀ (Q(x)) transformation | G and Q is affine transformation,\r\n",
        "            f is non-linear transformation, σ(x) is affine transformation with sigmoid non-linearition\r\n",
        "            and ⨀ is element-wise multiplication\r\n",
        "            \"\"\"\r\n",
        "\r\n",
        "        for layer in range(self.num_layers):\r\n",
        "            gate = F.sigmoid(self.gate[layer](x))\r\n",
        "\r\n",
        "            nonlinear = self.f(self.nonlinear[layer](x))\r\n",
        "            linear = self.linear[layer](x)\r\n",
        "\r\n",
        "            x = gate * nonlinear + (1 - gate) * linear\r\n",
        "\r\n",
        "        return x"
      ],
      "execution_count": 29,
      "outputs": []
    },
    {
      "cell_type": "code",
      "metadata": {
        "id": "Mc7prJEqsIky"
      },
      "source": [
        "model.cuda();\r\n"
      ],
      "execution_count": 30,
      "outputs": []
    },
    {
      "cell_type": "code",
      "metadata": {
        "id": "XJxQOIMQshVq"
      },
      "source": [
        "input_size = len(train_data)\r\n",
        "num_layers = 3"
      ],
      "execution_count": 31,
      "outputs": []
    },
    {
      "cell_type": "code",
      "metadata": {
        "id": "8SfyEwQesOFN"
      },
      "source": [
        "highway = Highway(input_size, num_layers, f=torch.nn.functional.relu)"
      ],
      "execution_count": 32,
      "outputs": []
    },
    {
      "cell_type": "code",
      "metadata": {
        "id": "_7PwmnFdX7fF"
      },
      "source": [
        "\r\n",
        "FULL_FINETUNING = True\r\n",
        "if FULL_FINETUNING:\r\n",
        "    param_optimizer = list(model.named_parameters())\r\n",
        "    no_decay = ['bias', 'gamma', 'beta']\r\n",
        "    optimizer_grouped_parameters = [\r\n",
        "        {'params': [p for n, p in param_optimizer if not any(nd in n for nd in no_decay)],\r\n",
        "         'weight_decay_rate': 0.01},\r\n",
        "        {'params': [p for n, p in param_optimizer if any(nd in n for nd in no_decay)],\r\n",
        "         'weight_decay_rate': 0.0}\r\n",
        "    ]\r\n",
        "else:\r\n",
        "    param_optimizer = list(model.classifier.named_parameters())\r\n",
        "    optimizer_grouped_parameters = [{\"params\": [p for n, p in param_optimizer]}]\r\n",
        "\r\n",
        "optimizer = AdamW(\r\n",
        "    optimizer_grouped_parameters,\r\n",
        "    lr=3e-5,\r\n",
        "    eps=1e-8\r\n",
        ")"
      ],
      "execution_count": 33,
      "outputs": []
    },
    {
      "cell_type": "code",
      "metadata": {
        "id": "SiwO7_bYZLWX"
      },
      "source": [
        "from transformers import get_linear_schedule_with_warmup\r\n",
        "\r\n",
        "epochs = 5\r\n",
        "max_grad_norm = 1.0\r\n",
        "\r\n",
        "# Total number of training steps is number of batches * number of epochs.\r\n",
        "total_steps = len(train_dataloader) * epochs\r\n",
        "\r\n",
        "# Create the learning rate scheduler.\r\n",
        "scheduler = get_linear_schedule_with_warmup(\r\n",
        "    optimizer,\r\n",
        "    num_warmup_steps=0,\r\n",
        "    num_training_steps=total_steps\r\n",
        ")"
      ],
      "execution_count": 34,
      "outputs": []
    },
    {
      "cell_type": "code",
      "metadata": {
        "colab": {
          "base_uri": "https://localhost:8080/"
        },
        "id": "mSeZF_IrZPO5",
        "outputId": "c00f8b6b-10cd-4b6c-e3de-b07b300ea1a2"
      },
      "source": [
        "\r\n",
        "!pip install seqeval==0.0.17\r\n",
        "from seqeval.metrics import f1_score, accuracy_score"
      ],
      "execution_count": 35,
      "outputs": [
        {
          "output_type": "stream",
          "text": [
            "Collecting seqeval==0.0.17\n",
            "  Downloading https://files.pythonhosted.org/packages/d8/9d/89d9ac5d6506f8368ba5ae53b054cf26bf796935eff6a1945431c7a5d485/seqeval-0.0.17.tar.gz\n",
            "Requirement already satisfied: numpy>=1.14.0 in /usr/local/lib/python3.7/dist-packages (from seqeval==0.0.17) (1.19.5)\n",
            "Requirement already satisfied: Keras>=2.2.4 in /usr/local/lib/python3.7/dist-packages (from seqeval==0.0.17) (2.4.3)\n",
            "Requirement already satisfied: scipy>=0.14 in /usr/local/lib/python3.7/dist-packages (from Keras>=2.2.4->seqeval==0.0.17) (1.4.1)\n",
            "Requirement already satisfied: h5py in /usr/local/lib/python3.7/dist-packages (from Keras>=2.2.4->seqeval==0.0.17) (2.10.0)\n",
            "Requirement already satisfied: pyyaml in /usr/local/lib/python3.7/dist-packages (from Keras>=2.2.4->seqeval==0.0.17) (3.13)\n",
            "Requirement already satisfied: six in /usr/local/lib/python3.7/dist-packages (from h5py->Keras>=2.2.4->seqeval==0.0.17) (1.15.0)\n",
            "Building wheels for collected packages: seqeval\n",
            "  Building wheel for seqeval (setup.py) ... \u001b[?25l\u001b[?25hdone\n",
            "  Created wheel for seqeval: filename=seqeval-0.0.17-cp37-none-any.whl size=7640 sha256=5a82cc1729bf59419a39aa64035614fc97a57c92644dd78bdcb2befd64cc66df\n",
            "  Stored in directory: /root/.cache/pip/wheels/6a/c8/cf/7b9d5d52984c08ce4d27d6f858a682ef74a3738f43f489166a\n",
            "Successfully built seqeval\n",
            "Installing collected packages: seqeval\n",
            "Successfully installed seqeval-0.0.17\n"
          ],
          "name": "stdout"
        }
      ]
    },
    {
      "cell_type": "code",
      "metadata": {
        "colab": {
          "base_uri": "https://localhost:8080/"
        },
        "id": "N8F9J0oFZRPc",
        "outputId": "58291beb-148b-4b10-f0f9-32db6a9a9d8e"
      },
      "source": [
        "## Store the average loss after each epoch so we can plot them.\r\n",
        "loss_values, validation_loss_values = [], []\r\n",
        "\r\n",
        "for _ in trange(epochs, desc=\"Epoch\"):\r\n",
        "    # ========================================\r\n",
        "    #               Training\r\n",
        "    # ========================================\r\n",
        "    # Perform one full pass over the training set.\r\n",
        "\r\n",
        "    # Put the model into training mode.\r\n",
        "    model.train()\r\n",
        "    # Reset the total loss for this epoch.\r\n",
        "    total_loss = 0\r\n",
        "\r\n",
        "    # Training loop\r\n",
        "    for step, batch in enumerate(train_dataloader):\r\n",
        "        # add batch to gpu\r\n",
        "        batch = tuple(t.to(device) for t in batch)\r\n",
        "        b_input_ids, b_input_mask, b_labels = batch\r\n",
        "        # Always clear any previously calculated gradients before performing a backward pass.\r\n",
        "        model.zero_grad()\r\n",
        "        # forward pass\r\n",
        "        # This will return the loss (rather than the model output)\r\n",
        "        # because we have provided the `labels`.\r\n",
        "        # add = highway(b_input_ids)\r\n",
        "        outputs = model(b_input_ids, token_type_ids=None,\r\n",
        "                        attention_mask=b_input_mask, labels=b_labels)\r\n",
        "        # get the loss\r\n",
        "        loss = outputs[0]\r\n",
        "        # Perform a backward pass to calculate the gradients.\r\n",
        "        loss.backward()\r\n",
        "        # track train loss\r\n",
        "        total_loss += loss.item()\r\n",
        "        # Clip the norm of the gradient\r\n",
        "        # This is to help prevent the \"exploding gradients\" problem.\r\n",
        "        torch.nn.utils.clip_grad_norm_(parameters=model.parameters(), max_norm=max_grad_norm)\r\n",
        "        # update parameters\r\n",
        "        optimizer.step()\r\n",
        "        # Update the learning rate.\r\n",
        "        scheduler.step()\r\n",
        "\r\n",
        "    # Calculate the average loss over the training data.\r\n",
        "    avg_train_loss = total_loss / len(train_dataloader)\r\n",
        "    print(\"Average train loss: {}\".format(avg_train_loss))\r\n",
        "\r\n",
        "    # Store the loss value for plotting the learning curve.\r\n",
        "    loss_values.append(avg_train_loss)\r\n",
        "\r\n",
        "\r\n",
        "    # ========================================\r\n",
        "    #               Validation\r\n",
        "    # ========================================\r\n",
        "    # After the completion of each training epoch, measure our performance on\r\n",
        "    # our validation set.\r\n",
        "    # Put the model into evaluation mode\r\n",
        "    model.eval()\r\n",
        "    # Reset the validation loss for this epoch.\r\n",
        "    eval_loss, eval_accuracy = 0, 0\r\n",
        "    nb_eval_steps, nb_eval_examples = 0, 0\r\n",
        "    predictions , true_labels = [], []\r\n",
        "    for batch in valid_dataloader:\r\n",
        "        batch = tuple(t.to(device) for t in batch)\r\n",
        "        b_input_ids, b_input_mask, b_labels = batch\r\n",
        "\r\n",
        "        # Telling the model not to compute or store gradients,\r\n",
        "        # saving memory and speeding up validation\r\n",
        "        with torch.no_grad():\r\n",
        "            # Forward pass, calculate logit predictions.\r\n",
        "            # This will return the logits rather than the loss because we have not provided labels.\r\n",
        "            outputs = model(b_input_ids, token_type_ids=None,\r\n",
        "                            attention_mask=b_input_mask, labels=b_labels)\r\n",
        "        # Move logits and labels to CPU\r\n",
        "        logits = outputs[1].detach().cpu().numpy()\r\n",
        "        label_ids = b_labels.to('cpu').numpy()\r\n",
        "\r\n",
        "        # Calculate the accuracy for this batch of test sentences.\r\n",
        "        eval_loss += outputs[0].mean().item()\r\n",
        "        predictions.extend([list(p) for p in np.argmax(logits, axis=2)])\r\n",
        "        true_labels.extend(label_ids)\r\n",
        "\r\n",
        "    eval_loss = eval_loss / len(valid_dataloader)\r\n",
        "    validation_loss_values.append(eval_loss)\r\n",
        "    print(\"Validation loss: {}\".format(eval_loss))\r\n",
        "    pred_tags = [tag_values[p_i] for p, l in zip(predictions, true_labels)\r\n",
        "                                 for p_i, l_i in zip(p, l) if tag_values[l_i] != \"PAD\"]\r\n",
        "    valid_tags = [tag_values[l_i] for l in true_labels\r\n",
        "                                  for l_i in l if tag_values[l_i] != \"PAD\"]\r\n",
        "    print(\"Validation Accuracy: {}\".format(accuracy_score(pred_tags, valid_tags)))\r\n",
        "    print(\"Validation F1-Score: {}\".format(f1_score(pred_tags, valid_tags)))\r\n",
        "    print()"
      ],
      "execution_count": 40,
      "outputs": [
        {
          "output_type": "stream",
          "text": [
            "\n",
            "Epoch:   0%|          | 0/5 [00:00<?, ?it/s]\u001b[A"
          ],
          "name": "stderr"
        },
        {
          "output_type": "stream",
          "text": [
            "Average train loss: 0.07177685260772705\n",
            "Validation loss: 0.0660386064555496\n",
            "Validation Accuracy: 0.9823236323115443\n"
          ],
          "name": "stdout"
        },
        {
          "output_type": "stream",
          "text": [
            "\n",
            "Epoch:  20%|██        | 1/5 [04:07<16:30, 247.57s/it]\u001b[A"
          ],
          "name": "stderr"
        },
        {
          "output_type": "stream",
          "text": [
            "Validation F1-Score: 0.8274585452348941\n",
            "\n",
            "Average train loss: 0.05305398568511009\n",
            "Validation loss: 0.0576476543986549\n",
            "Validation Accuracy: 0.9850997196124037\n"
          ],
          "name": "stdout"
        },
        {
          "output_type": "stream",
          "text": [
            "\n",
            "Epoch:  40%|████      | 2/5 [08:14<12:22, 247.48s/it]\u001b[A"
          ],
          "name": "stderr"
        },
        {
          "output_type": "stream",
          "text": [
            "Validation F1-Score: 0.8522794436345009\n",
            "\n",
            "Average train loss: 0.04416851488252481\n",
            "Validation loss: 0.05505037199084958\n",
            "Validation Accuracy: 0.9862974109303921\n"
          ],
          "name": "stdout"
        },
        {
          "output_type": "stream",
          "text": [
            "\n",
            "Epoch:  60%|██████    | 3/5 [12:21<08:14, 247.36s/it]\u001b[A"
          ],
          "name": "stderr"
        },
        {
          "output_type": "stream",
          "text": [
            "Validation F1-Score: 0.8643498418560791\n",
            "\n",
            "Average train loss: 0.04261042679349581\n",
            "Validation loss: 0.05505037199084958\n",
            "Validation Accuracy: 0.9862974109303921\n"
          ],
          "name": "stdout"
        },
        {
          "output_type": "stream",
          "text": [
            "\n",
            "Epoch:  80%|████████  | 4/5 [16:29<04:07, 247.31s/it]\u001b[A"
          ],
          "name": "stderr"
        },
        {
          "output_type": "stream",
          "text": [
            "Validation F1-Score: 0.8643498418560791\n",
            "\n",
            "Average train loss: 0.042352898841102916\n",
            "Validation loss: 0.05505037199084958\n",
            "Validation Accuracy: 0.9862974109303921\n"
          ],
          "name": "stdout"
        },
        {
          "output_type": "stream",
          "text": [
            "\n",
            "Epoch: 100%|██████████| 5/5 [20:36<00:00, 247.21s/it]"
          ],
          "name": "stderr"
        },
        {
          "output_type": "stream",
          "text": [
            "Validation F1-Score: 0.8643498418560791\n",
            "\n"
          ],
          "name": "stdout"
        },
        {
          "output_type": "stream",
          "text": [
            "\n"
          ],
          "name": "stderr"
        }
      ]
    },
    {
      "cell_type": "code",
      "metadata": {
        "id": "uPOCwVYrZgoi"
      },
      "source": [
        ""
      ],
      "execution_count": null,
      "outputs": []
    }
  ]
}
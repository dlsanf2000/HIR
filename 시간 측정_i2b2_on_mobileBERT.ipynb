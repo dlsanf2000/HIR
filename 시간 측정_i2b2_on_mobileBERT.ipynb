{
  "nbformat": 4,
  "nbformat_minor": 0,
  "metadata": {
    "colab": {
      "name": "i2b2 on mobileBERT",
      "provenance": [],
      "collapsed_sections": [],
      "authorship_tag": "ABX9TyMIvWjYN9M+aLIDaNipvEuq",
      "include_colab_link": true
    },
    "kernelspec": {
      "name": "python3",
      "display_name": "Python 3"
    },
    "widgets": {
      "application/vnd.jupyter.widget-state+json": {
        "1e9a68d217da471eb97cd0301899df97": {
          "model_module": "@jupyter-widgets/controls",
          "model_name": "HBoxModel",
          "state": {
            "_view_name": "HBoxView",
            "_dom_classes": [],
            "_model_name": "HBoxModel",
            "_view_module": "@jupyter-widgets/controls",
            "_model_module_version": "1.5.0",
            "_view_count": null,
            "_view_module_version": "1.5.0",
            "box_style": "",
            "layout": "IPY_MODEL_d9396a8be531493da5262a93febd0766",
            "_model_module": "@jupyter-widgets/controls",
            "children": [
              "IPY_MODEL_9032f4ab69394acfac93126c5766afcf",
              "IPY_MODEL_1ae0da4f45924e929a5eab64814f3de9"
            ]
          }
        },
        "d9396a8be531493da5262a93febd0766": {
          "model_module": "@jupyter-widgets/base",
          "model_name": "LayoutModel",
          "state": {
            "_view_name": "LayoutView",
            "grid_template_rows": null,
            "right": null,
            "justify_content": null,
            "_view_module": "@jupyter-widgets/base",
            "overflow": null,
            "_model_module_version": "1.2.0",
            "_view_count": null,
            "flex_flow": null,
            "width": null,
            "min_width": null,
            "border": null,
            "align_items": null,
            "bottom": null,
            "_model_module": "@jupyter-widgets/base",
            "top": null,
            "grid_column": null,
            "overflow_y": null,
            "overflow_x": null,
            "grid_auto_flow": null,
            "grid_area": null,
            "grid_template_columns": null,
            "flex": null,
            "_model_name": "LayoutModel",
            "justify_items": null,
            "grid_row": null,
            "max_height": null,
            "align_content": null,
            "visibility": null,
            "align_self": null,
            "height": null,
            "min_height": null,
            "padding": null,
            "grid_auto_rows": null,
            "grid_gap": null,
            "max_width": null,
            "order": null,
            "_view_module_version": "1.2.0",
            "grid_template_areas": null,
            "object_position": null,
            "object_fit": null,
            "grid_auto_columns": null,
            "margin": null,
            "display": null,
            "left": null
          }
        },
        "9032f4ab69394acfac93126c5766afcf": {
          "model_module": "@jupyter-widgets/controls",
          "model_name": "FloatProgressModel",
          "state": {
            "_view_name": "ProgressView",
            "style": "IPY_MODEL_f4b6d3868e114feba817313273add1f7",
            "_dom_classes": [],
            "description": "Downloading: 100%",
            "_model_name": "FloatProgressModel",
            "bar_style": "success",
            "max": 231508,
            "_view_module": "@jupyter-widgets/controls",
            "_model_module_version": "1.5.0",
            "value": 231508,
            "_view_count": null,
            "_view_module_version": "1.5.0",
            "orientation": "horizontal",
            "min": 0,
            "description_tooltip": null,
            "_model_module": "@jupyter-widgets/controls",
            "layout": "IPY_MODEL_dc0b37ceeb6245ce90361b01283c154b"
          }
        },
        "1ae0da4f45924e929a5eab64814f3de9": {
          "model_module": "@jupyter-widgets/controls",
          "model_name": "HTMLModel",
          "state": {
            "_view_name": "HTMLView",
            "style": "IPY_MODEL_791385e4d4a44456953eb8dad36c4539",
            "_dom_classes": [],
            "description": "",
            "_model_name": "HTMLModel",
            "placeholder": "​",
            "_view_module": "@jupyter-widgets/controls",
            "_model_module_version": "1.5.0",
            "value": " 232k/232k [00:00&lt;00:00, 1.06MB/s]",
            "_view_count": null,
            "_view_module_version": "1.5.0",
            "description_tooltip": null,
            "_model_module": "@jupyter-widgets/controls",
            "layout": "IPY_MODEL_39274c774c7a430e9b04decc9610339e"
          }
        },
        "f4b6d3868e114feba817313273add1f7": {
          "model_module": "@jupyter-widgets/controls",
          "model_name": "ProgressStyleModel",
          "state": {
            "_view_name": "StyleView",
            "_model_name": "ProgressStyleModel",
            "description_width": "initial",
            "_view_module": "@jupyter-widgets/base",
            "_model_module_version": "1.5.0",
            "_view_count": null,
            "_view_module_version": "1.2.0",
            "bar_color": null,
            "_model_module": "@jupyter-widgets/controls"
          }
        },
        "dc0b37ceeb6245ce90361b01283c154b": {
          "model_module": "@jupyter-widgets/base",
          "model_name": "LayoutModel",
          "state": {
            "_view_name": "LayoutView",
            "grid_template_rows": null,
            "right": null,
            "justify_content": null,
            "_view_module": "@jupyter-widgets/base",
            "overflow": null,
            "_model_module_version": "1.2.0",
            "_view_count": null,
            "flex_flow": null,
            "width": null,
            "min_width": null,
            "border": null,
            "align_items": null,
            "bottom": null,
            "_model_module": "@jupyter-widgets/base",
            "top": null,
            "grid_column": null,
            "overflow_y": null,
            "overflow_x": null,
            "grid_auto_flow": null,
            "grid_area": null,
            "grid_template_columns": null,
            "flex": null,
            "_model_name": "LayoutModel",
            "justify_items": null,
            "grid_row": null,
            "max_height": null,
            "align_content": null,
            "visibility": null,
            "align_self": null,
            "height": null,
            "min_height": null,
            "padding": null,
            "grid_auto_rows": null,
            "grid_gap": null,
            "max_width": null,
            "order": null,
            "_view_module_version": "1.2.0",
            "grid_template_areas": null,
            "object_position": null,
            "object_fit": null,
            "grid_auto_columns": null,
            "margin": null,
            "display": null,
            "left": null
          }
        },
        "791385e4d4a44456953eb8dad36c4539": {
          "model_module": "@jupyter-widgets/controls",
          "model_name": "DescriptionStyleModel",
          "state": {
            "_view_name": "StyleView",
            "_model_name": "DescriptionStyleModel",
            "description_width": "",
            "_view_module": "@jupyter-widgets/base",
            "_model_module_version": "1.5.0",
            "_view_count": null,
            "_view_module_version": "1.2.0",
            "_model_module": "@jupyter-widgets/controls"
          }
        },
        "39274c774c7a430e9b04decc9610339e": {
          "model_module": "@jupyter-widgets/base",
          "model_name": "LayoutModel",
          "state": {
            "_view_name": "LayoutView",
            "grid_template_rows": null,
            "right": null,
            "justify_content": null,
            "_view_module": "@jupyter-widgets/base",
            "overflow": null,
            "_model_module_version": "1.2.0",
            "_view_count": null,
            "flex_flow": null,
            "width": null,
            "min_width": null,
            "border": null,
            "align_items": null,
            "bottom": null,
            "_model_module": "@jupyter-widgets/base",
            "top": null,
            "grid_column": null,
            "overflow_y": null,
            "overflow_x": null,
            "grid_auto_flow": null,
            "grid_area": null,
            "grid_template_columns": null,
            "flex": null,
            "_model_name": "LayoutModel",
            "justify_items": null,
            "grid_row": null,
            "max_height": null,
            "align_content": null,
            "visibility": null,
            "align_self": null,
            "height": null,
            "min_height": null,
            "padding": null,
            "grid_auto_rows": null,
            "grid_gap": null,
            "max_width": null,
            "order": null,
            "_view_module_version": "1.2.0",
            "grid_template_areas": null,
            "object_position": null,
            "object_fit": null,
            "grid_auto_columns": null,
            "margin": null,
            "display": null,
            "left": null
          }
        },
        "e7746837506845f1a54caf298780482f": {
          "model_module": "@jupyter-widgets/controls",
          "model_name": "HBoxModel",
          "state": {
            "_view_name": "HBoxView",
            "_dom_classes": [],
            "_model_name": "HBoxModel",
            "_view_module": "@jupyter-widgets/controls",
            "_model_module_version": "1.5.0",
            "_view_count": null,
            "_view_module_version": "1.5.0",
            "box_style": "",
            "layout": "IPY_MODEL_81d11434f989429ab7c3fef3d0bb55fe",
            "_model_module": "@jupyter-widgets/controls",
            "children": [
              "IPY_MODEL_b1094edfa4e14f73acf07beb3afdadeb",
              "IPY_MODEL_d77d016f053940c6832ae4704fe2d9eb"
            ]
          }
        },
        "81d11434f989429ab7c3fef3d0bb55fe": {
          "model_module": "@jupyter-widgets/base",
          "model_name": "LayoutModel",
          "state": {
            "_view_name": "LayoutView",
            "grid_template_rows": null,
            "right": null,
            "justify_content": null,
            "_view_module": "@jupyter-widgets/base",
            "overflow": null,
            "_model_module_version": "1.2.0",
            "_view_count": null,
            "flex_flow": null,
            "width": null,
            "min_width": null,
            "border": null,
            "align_items": null,
            "bottom": null,
            "_model_module": "@jupyter-widgets/base",
            "top": null,
            "grid_column": null,
            "overflow_y": null,
            "overflow_x": null,
            "grid_auto_flow": null,
            "grid_area": null,
            "grid_template_columns": null,
            "flex": null,
            "_model_name": "LayoutModel",
            "justify_items": null,
            "grid_row": null,
            "max_height": null,
            "align_content": null,
            "visibility": null,
            "align_self": null,
            "height": null,
            "min_height": null,
            "padding": null,
            "grid_auto_rows": null,
            "grid_gap": null,
            "max_width": null,
            "order": null,
            "_view_module_version": "1.2.0",
            "grid_template_areas": null,
            "object_position": null,
            "object_fit": null,
            "grid_auto_columns": null,
            "margin": null,
            "display": null,
            "left": null
          }
        },
        "b1094edfa4e14f73acf07beb3afdadeb": {
          "model_module": "@jupyter-widgets/controls",
          "model_name": "FloatProgressModel",
          "state": {
            "_view_name": "ProgressView",
            "style": "IPY_MODEL_603dc0f8c5a54e10a5ab92a1d6415ce2",
            "_dom_classes": [],
            "description": "Downloading: 100%",
            "_model_name": "FloatProgressModel",
            "bar_style": "success",
            "max": 466062,
            "_view_module": "@jupyter-widgets/controls",
            "_model_module_version": "1.5.0",
            "value": 466062,
            "_view_count": null,
            "_view_module_version": "1.5.0",
            "orientation": "horizontal",
            "min": 0,
            "description_tooltip": null,
            "_model_module": "@jupyter-widgets/controls",
            "layout": "IPY_MODEL_705d47d0188842a68babe5dc523dcb1c"
          }
        },
        "d77d016f053940c6832ae4704fe2d9eb": {
          "model_module": "@jupyter-widgets/controls",
          "model_name": "HTMLModel",
          "state": {
            "_view_name": "HTMLView",
            "style": "IPY_MODEL_d5f7f6b1089049b6af7a081c64524739",
            "_dom_classes": [],
            "description": "",
            "_model_name": "HTMLModel",
            "placeholder": "​",
            "_view_module": "@jupyter-widgets/controls",
            "_model_module_version": "1.5.0",
            "value": " 466k/466k [00:00&lt;00:00, 6.28MB/s]",
            "_view_count": null,
            "_view_module_version": "1.5.0",
            "description_tooltip": null,
            "_model_module": "@jupyter-widgets/controls",
            "layout": "IPY_MODEL_00149089bfc94c87a48e7115dc1cee79"
          }
        },
        "603dc0f8c5a54e10a5ab92a1d6415ce2": {
          "model_module": "@jupyter-widgets/controls",
          "model_name": "ProgressStyleModel",
          "state": {
            "_view_name": "StyleView",
            "_model_name": "ProgressStyleModel",
            "description_width": "initial",
            "_view_module": "@jupyter-widgets/base",
            "_model_module_version": "1.5.0",
            "_view_count": null,
            "_view_module_version": "1.2.0",
            "bar_color": null,
            "_model_module": "@jupyter-widgets/controls"
          }
        },
        "705d47d0188842a68babe5dc523dcb1c": {
          "model_module": "@jupyter-widgets/base",
          "model_name": "LayoutModel",
          "state": {
            "_view_name": "LayoutView",
            "grid_template_rows": null,
            "right": null,
            "justify_content": null,
            "_view_module": "@jupyter-widgets/base",
            "overflow": null,
            "_model_module_version": "1.2.0",
            "_view_count": null,
            "flex_flow": null,
            "width": null,
            "min_width": null,
            "border": null,
            "align_items": null,
            "bottom": null,
            "_model_module": "@jupyter-widgets/base",
            "top": null,
            "grid_column": null,
            "overflow_y": null,
            "overflow_x": null,
            "grid_auto_flow": null,
            "grid_area": null,
            "grid_template_columns": null,
            "flex": null,
            "_model_name": "LayoutModel",
            "justify_items": null,
            "grid_row": null,
            "max_height": null,
            "align_content": null,
            "visibility": null,
            "align_self": null,
            "height": null,
            "min_height": null,
            "padding": null,
            "grid_auto_rows": null,
            "grid_gap": null,
            "max_width": null,
            "order": null,
            "_view_module_version": "1.2.0",
            "grid_template_areas": null,
            "object_position": null,
            "object_fit": null,
            "grid_auto_columns": null,
            "margin": null,
            "display": null,
            "left": null
          }
        },
        "d5f7f6b1089049b6af7a081c64524739": {
          "model_module": "@jupyter-widgets/controls",
          "model_name": "DescriptionStyleModel",
          "state": {
            "_view_name": "StyleView",
            "_model_name": "DescriptionStyleModel",
            "description_width": "",
            "_view_module": "@jupyter-widgets/base",
            "_model_module_version": "1.5.0",
            "_view_count": null,
            "_view_module_version": "1.2.0",
            "_model_module": "@jupyter-widgets/controls"
          }
        },
        "00149089bfc94c87a48e7115dc1cee79": {
          "model_module": "@jupyter-widgets/base",
          "model_name": "LayoutModel",
          "state": {
            "_view_name": "LayoutView",
            "grid_template_rows": null,
            "right": null,
            "justify_content": null,
            "_view_module": "@jupyter-widgets/base",
            "overflow": null,
            "_model_module_version": "1.2.0",
            "_view_count": null,
            "flex_flow": null,
            "width": null,
            "min_width": null,
            "border": null,
            "align_items": null,
            "bottom": null,
            "_model_module": "@jupyter-widgets/base",
            "top": null,
            "grid_column": null,
            "overflow_y": null,
            "overflow_x": null,
            "grid_auto_flow": null,
            "grid_area": null,
            "grid_template_columns": null,
            "flex": null,
            "_model_name": "LayoutModel",
            "justify_items": null,
            "grid_row": null,
            "max_height": null,
            "align_content": null,
            "visibility": null,
            "align_self": null,
            "height": null,
            "min_height": null,
            "padding": null,
            "grid_auto_rows": null,
            "grid_gap": null,
            "max_width": null,
            "order": null,
            "_view_module_version": "1.2.0",
            "grid_template_areas": null,
            "object_position": null,
            "object_fit": null,
            "grid_auto_columns": null,
            "margin": null,
            "display": null,
            "left": null
          }
        },
        "88ebd5d4c7c44568bbab2c959205ddfd": {
          "model_module": "@jupyter-widgets/controls",
          "model_name": "HBoxModel",
          "state": {
            "_view_name": "HBoxView",
            "_dom_classes": [],
            "_model_name": "HBoxModel",
            "_view_module": "@jupyter-widgets/controls",
            "_model_module_version": "1.5.0",
            "_view_count": null,
            "_view_module_version": "1.5.0",
            "box_style": "",
            "layout": "IPY_MODEL_b58f7304267a4f58a39c6c8a0229c261",
            "_model_module": "@jupyter-widgets/controls",
            "children": [
              "IPY_MODEL_0fb94af702b1491cb011fdd0badf26fd",
              "IPY_MODEL_959f59d1622247f1a3da15186b3a3643"
            ]
          }
        },
        "b58f7304267a4f58a39c6c8a0229c261": {
          "model_module": "@jupyter-widgets/base",
          "model_name": "LayoutModel",
          "state": {
            "_view_name": "LayoutView",
            "grid_template_rows": null,
            "right": null,
            "justify_content": null,
            "_view_module": "@jupyter-widgets/base",
            "overflow": null,
            "_model_module_version": "1.2.0",
            "_view_count": null,
            "flex_flow": null,
            "width": null,
            "min_width": null,
            "border": null,
            "align_items": null,
            "bottom": null,
            "_model_module": "@jupyter-widgets/base",
            "top": null,
            "grid_column": null,
            "overflow_y": null,
            "overflow_x": null,
            "grid_auto_flow": null,
            "grid_area": null,
            "grid_template_columns": null,
            "flex": null,
            "_model_name": "LayoutModel",
            "justify_items": null,
            "grid_row": null,
            "max_height": null,
            "align_content": null,
            "visibility": null,
            "align_self": null,
            "height": null,
            "min_height": null,
            "padding": null,
            "grid_auto_rows": null,
            "grid_gap": null,
            "max_width": null,
            "order": null,
            "_view_module_version": "1.2.0",
            "grid_template_areas": null,
            "object_position": null,
            "object_fit": null,
            "grid_auto_columns": null,
            "margin": null,
            "display": null,
            "left": null
          }
        },
        "0fb94af702b1491cb011fdd0badf26fd": {
          "model_module": "@jupyter-widgets/controls",
          "model_name": "FloatProgressModel",
          "state": {
            "_view_name": "ProgressView",
            "style": "IPY_MODEL_6f3880c37bf341f7b97ca7bae04130a1",
            "_dom_classes": [],
            "description": "Downloading: 100%",
            "_model_name": "FloatProgressModel",
            "bar_style": "success",
            "max": 560,
            "_view_module": "@jupyter-widgets/controls",
            "_model_module_version": "1.5.0",
            "value": 560,
            "_view_count": null,
            "_view_module_version": "1.5.0",
            "orientation": "horizontal",
            "min": 0,
            "description_tooltip": null,
            "_model_module": "@jupyter-widgets/controls",
            "layout": "IPY_MODEL_b3a82820a3ec431d919145761f6f0bc0"
          }
        },
        "959f59d1622247f1a3da15186b3a3643": {
          "model_module": "@jupyter-widgets/controls",
          "model_name": "HTMLModel",
          "state": {
            "_view_name": "HTMLView",
            "style": "IPY_MODEL_701656078a9a44a38802203f33c34053",
            "_dom_classes": [],
            "description": "",
            "_model_name": "HTMLModel",
            "placeholder": "​",
            "_view_module": "@jupyter-widgets/controls",
            "_model_module_version": "1.5.0",
            "value": " 560/560 [00:03&lt;00:00, 184B/s]",
            "_view_count": null,
            "_view_module_version": "1.5.0",
            "description_tooltip": null,
            "_model_module": "@jupyter-widgets/controls",
            "layout": "IPY_MODEL_36c2058ce58a4a5797c8be26abedc2d6"
          }
        },
        "6f3880c37bf341f7b97ca7bae04130a1": {
          "model_module": "@jupyter-widgets/controls",
          "model_name": "ProgressStyleModel",
          "state": {
            "_view_name": "StyleView",
            "_model_name": "ProgressStyleModel",
            "description_width": "initial",
            "_view_module": "@jupyter-widgets/base",
            "_model_module_version": "1.5.0",
            "_view_count": null,
            "_view_module_version": "1.2.0",
            "bar_color": null,
            "_model_module": "@jupyter-widgets/controls"
          }
        },
        "b3a82820a3ec431d919145761f6f0bc0": {
          "model_module": "@jupyter-widgets/base",
          "model_name": "LayoutModel",
          "state": {
            "_view_name": "LayoutView",
            "grid_template_rows": null,
            "right": null,
            "justify_content": null,
            "_view_module": "@jupyter-widgets/base",
            "overflow": null,
            "_model_module_version": "1.2.0",
            "_view_count": null,
            "flex_flow": null,
            "width": null,
            "min_width": null,
            "border": null,
            "align_items": null,
            "bottom": null,
            "_model_module": "@jupyter-widgets/base",
            "top": null,
            "grid_column": null,
            "overflow_y": null,
            "overflow_x": null,
            "grid_auto_flow": null,
            "grid_area": null,
            "grid_template_columns": null,
            "flex": null,
            "_model_name": "LayoutModel",
            "justify_items": null,
            "grid_row": null,
            "max_height": null,
            "align_content": null,
            "visibility": null,
            "align_self": null,
            "height": null,
            "min_height": null,
            "padding": null,
            "grid_auto_rows": null,
            "grid_gap": null,
            "max_width": null,
            "order": null,
            "_view_module_version": "1.2.0",
            "grid_template_areas": null,
            "object_position": null,
            "object_fit": null,
            "grid_auto_columns": null,
            "margin": null,
            "display": null,
            "left": null
          }
        },
        "701656078a9a44a38802203f33c34053": {
          "model_module": "@jupyter-widgets/controls",
          "model_name": "DescriptionStyleModel",
          "state": {
            "_view_name": "StyleView",
            "_model_name": "DescriptionStyleModel",
            "description_width": "",
            "_view_module": "@jupyter-widgets/base",
            "_model_module_version": "1.5.0",
            "_view_count": null,
            "_view_module_version": "1.2.0",
            "_model_module": "@jupyter-widgets/controls"
          }
        },
        "36c2058ce58a4a5797c8be26abedc2d6": {
          "model_module": "@jupyter-widgets/base",
          "model_name": "LayoutModel",
          "state": {
            "_view_name": "LayoutView",
            "grid_template_rows": null,
            "right": null,
            "justify_content": null,
            "_view_module": "@jupyter-widgets/base",
            "overflow": null,
            "_model_module_version": "1.2.0",
            "_view_count": null,
            "flex_flow": null,
            "width": null,
            "min_width": null,
            "border": null,
            "align_items": null,
            "bottom": null,
            "_model_module": "@jupyter-widgets/base",
            "top": null,
            "grid_column": null,
            "overflow_y": null,
            "overflow_x": null,
            "grid_auto_flow": null,
            "grid_area": null,
            "grid_template_columns": null,
            "flex": null,
            "_model_name": "LayoutModel",
            "justify_items": null,
            "grid_row": null,
            "max_height": null,
            "align_content": null,
            "visibility": null,
            "align_self": null,
            "height": null,
            "min_height": null,
            "padding": null,
            "grid_auto_rows": null,
            "grid_gap": null,
            "max_width": null,
            "order": null,
            "_view_module_version": "1.2.0",
            "grid_template_areas": null,
            "object_position": null,
            "object_fit": null,
            "grid_auto_columns": null,
            "margin": null,
            "display": null,
            "left": null
          }
        },
        "63bc302665f64c05ae86d663d83187ff": {
          "model_module": "@jupyter-widgets/controls",
          "model_name": "HBoxModel",
          "state": {
            "_view_name": "HBoxView",
            "_dom_classes": [],
            "_model_name": "HBoxModel",
            "_view_module": "@jupyter-widgets/controls",
            "_model_module_version": "1.5.0",
            "_view_count": null,
            "_view_module_version": "1.5.0",
            "box_style": "",
            "layout": "IPY_MODEL_2122d0e76e4e43479a29fb98a1666251",
            "_model_module": "@jupyter-widgets/controls",
            "children": [
              "IPY_MODEL_1d68cfe0a60742619bcc1d175010aa8d",
              "IPY_MODEL_0c6b10f48d5f41c3b1680f4c0ca6a65a"
            ]
          }
        },
        "2122d0e76e4e43479a29fb98a1666251": {
          "model_module": "@jupyter-widgets/base",
          "model_name": "LayoutModel",
          "state": {
            "_view_name": "LayoutView",
            "grid_template_rows": null,
            "right": null,
            "justify_content": null,
            "_view_module": "@jupyter-widgets/base",
            "overflow": null,
            "_model_module_version": "1.2.0",
            "_view_count": null,
            "flex_flow": null,
            "width": null,
            "min_width": null,
            "border": null,
            "align_items": null,
            "bottom": null,
            "_model_module": "@jupyter-widgets/base",
            "top": null,
            "grid_column": null,
            "overflow_y": null,
            "overflow_x": null,
            "grid_auto_flow": null,
            "grid_area": null,
            "grid_template_columns": null,
            "flex": null,
            "_model_name": "LayoutModel",
            "justify_items": null,
            "grid_row": null,
            "max_height": null,
            "align_content": null,
            "visibility": null,
            "align_self": null,
            "height": null,
            "min_height": null,
            "padding": null,
            "grid_auto_rows": null,
            "grid_gap": null,
            "max_width": null,
            "order": null,
            "_view_module_version": "1.2.0",
            "grid_template_areas": null,
            "object_position": null,
            "object_fit": null,
            "grid_auto_columns": null,
            "margin": null,
            "display": null,
            "left": null
          }
        },
        "1d68cfe0a60742619bcc1d175010aa8d": {
          "model_module": "@jupyter-widgets/controls",
          "model_name": "FloatProgressModel",
          "state": {
            "_view_name": "ProgressView",
            "style": "IPY_MODEL_d6d20e8199074e31bdd61a7c38d0f95a",
            "_dom_classes": [],
            "description": "Downloading: 100%",
            "_model_name": "FloatProgressModel",
            "bar_style": "success",
            "max": 146671951,
            "_view_module": "@jupyter-widgets/controls",
            "_model_module_version": "1.5.0",
            "value": 146671951,
            "_view_count": null,
            "_view_module_version": "1.5.0",
            "orientation": "horizontal",
            "min": 0,
            "description_tooltip": null,
            "_model_module": "@jupyter-widgets/controls",
            "layout": "IPY_MODEL_ee37fde39fd04759b92340bab6841b07"
          }
        },
        "0c6b10f48d5f41c3b1680f4c0ca6a65a": {
          "model_module": "@jupyter-widgets/controls",
          "model_name": "HTMLModel",
          "state": {
            "_view_name": "HTMLView",
            "style": "IPY_MODEL_0cdda312447f4b5ba496a31e28df6ae3",
            "_dom_classes": [],
            "description": "",
            "_model_name": "HTMLModel",
            "placeholder": "​",
            "_view_module": "@jupyter-widgets/controls",
            "_model_module_version": "1.5.0",
            "value": " 147M/147M [00:02&lt;00:00, 49.9MB/s]",
            "_view_count": null,
            "_view_module_version": "1.5.0",
            "description_tooltip": null,
            "_model_module": "@jupyter-widgets/controls",
            "layout": "IPY_MODEL_4586a64578814af1b27e7755e155003f"
          }
        },
        "d6d20e8199074e31bdd61a7c38d0f95a": {
          "model_module": "@jupyter-widgets/controls",
          "model_name": "ProgressStyleModel",
          "state": {
            "_view_name": "StyleView",
            "_model_name": "ProgressStyleModel",
            "description_width": "initial",
            "_view_module": "@jupyter-widgets/base",
            "_model_module_version": "1.5.0",
            "_view_count": null,
            "_view_module_version": "1.2.0",
            "bar_color": null,
            "_model_module": "@jupyter-widgets/controls"
          }
        },
        "ee37fde39fd04759b92340bab6841b07": {
          "model_module": "@jupyter-widgets/base",
          "model_name": "LayoutModel",
          "state": {
            "_view_name": "LayoutView",
            "grid_template_rows": null,
            "right": null,
            "justify_content": null,
            "_view_module": "@jupyter-widgets/base",
            "overflow": null,
            "_model_module_version": "1.2.0",
            "_view_count": null,
            "flex_flow": null,
            "width": null,
            "min_width": null,
            "border": null,
            "align_items": null,
            "bottom": null,
            "_model_module": "@jupyter-widgets/base",
            "top": null,
            "grid_column": null,
            "overflow_y": null,
            "overflow_x": null,
            "grid_auto_flow": null,
            "grid_area": null,
            "grid_template_columns": null,
            "flex": null,
            "_model_name": "LayoutModel",
            "justify_items": null,
            "grid_row": null,
            "max_height": null,
            "align_content": null,
            "visibility": null,
            "align_self": null,
            "height": null,
            "min_height": null,
            "padding": null,
            "grid_auto_rows": null,
            "grid_gap": null,
            "max_width": null,
            "order": null,
            "_view_module_version": "1.2.0",
            "grid_template_areas": null,
            "object_position": null,
            "object_fit": null,
            "grid_auto_columns": null,
            "margin": null,
            "display": null,
            "left": null
          }
        },
        "0cdda312447f4b5ba496a31e28df6ae3": {
          "model_module": "@jupyter-widgets/controls",
          "model_name": "DescriptionStyleModel",
          "state": {
            "_view_name": "StyleView",
            "_model_name": "DescriptionStyleModel",
            "description_width": "",
            "_view_module": "@jupyter-widgets/base",
            "_model_module_version": "1.5.0",
            "_view_count": null,
            "_view_module_version": "1.2.0",
            "_model_module": "@jupyter-widgets/controls"
          }
        },
        "4586a64578814af1b27e7755e155003f": {
          "model_module": "@jupyter-widgets/base",
          "model_name": "LayoutModel",
          "state": {
            "_view_name": "LayoutView",
            "grid_template_rows": null,
            "right": null,
            "justify_content": null,
            "_view_module": "@jupyter-widgets/base",
            "overflow": null,
            "_model_module_version": "1.2.0",
            "_view_count": null,
            "flex_flow": null,
            "width": null,
            "min_width": null,
            "border": null,
            "align_items": null,
            "bottom": null,
            "_model_module": "@jupyter-widgets/base",
            "top": null,
            "grid_column": null,
            "overflow_y": null,
            "overflow_x": null,
            "grid_auto_flow": null,
            "grid_area": null,
            "grid_template_columns": null,
            "flex": null,
            "_model_name": "LayoutModel",
            "justify_items": null,
            "grid_row": null,
            "max_height": null,
            "align_content": null,
            "visibility": null,
            "align_self": null,
            "height": null,
            "min_height": null,
            "padding": null,
            "grid_auto_rows": null,
            "grid_gap": null,
            "max_width": null,
            "order": null,
            "_view_module_version": "1.2.0",
            "grid_template_areas": null,
            "object_position": null,
            "object_fit": null,
            "grid_auto_columns": null,
            "margin": null,
            "display": null,
            "left": null
          }
        }
      }
    },
    "accelerator": "GPU"
  },
  "cells": [
    {
      "cell_type": "markdown",
      "metadata": {
        "id": "view-in-github",
        "colab_type": "text"
      },
      "source": [
        "<a href=\"https://colab.research.google.com/github/dlsanf2000/HIR/blob/main/%EC%8B%9C%EA%B0%84%20%EC%B8%A1%EC%A0%95_i2b2_on_mobileBERT.ipynb\" target=\"_parent\"><img src=\"https://colab.research.google.com/assets/colab-badge.svg\" alt=\"Open In Colab\"/></a>"
      ]
    },
    {
      "cell_type": "code",
      "metadata": {
        "colab": {
          "base_uri": "https://localhost:8080/"
        },
        "id": "VeIkCFMraKzm",
        "outputId": "b62b3805-c6bc-4115-e6a3-85b7818feee9"
      },
      "source": [
        "import numpy as np\r\n",
        "import pandas as pd\r\n",
        "from google.colab import drive\r\n",
        "drive.mount('/content/drive/')"
      ],
      "execution_count": 1,
      "outputs": [
        {
          "output_type": "stream",
          "text": [
            "Mounted at /content/drive/\n"
          ],
          "name": "stdout"
        }
      ]
    },
    {
      "cell_type": "code",
      "metadata": {
        "colab": {
          "base_uri": "https://localhost:8080/"
        },
        "id": "0diXmPhFbBmI",
        "outputId": "d310a694-0e11-4a35-ed9e-cf17be00d384"
      },
      "source": [
        "!pip install transformers\r\n",
        "import transformers"
      ],
      "execution_count": 2,
      "outputs": [
        {
          "output_type": "stream",
          "text": [
            "Collecting transformers\n",
            "\u001b[?25l  Downloading https://files.pythonhosted.org/packages/f9/54/5ca07ec9569d2f232f3166de5457b63943882f7950ddfcc887732fc7fb23/transformers-4.3.3-py3-none-any.whl (1.9MB)\n",
            "\u001b[K     |████████████████████████████████| 1.9MB 15.3MB/s \n",
            "\u001b[?25hRequirement already satisfied: packaging in /usr/local/lib/python3.7/dist-packages (from transformers) (20.9)\n",
            "Collecting sacremoses\n",
            "\u001b[?25l  Downloading https://files.pythonhosted.org/packages/7d/34/09d19aff26edcc8eb2a01bed8e98f13a1537005d31e95233fd48216eed10/sacremoses-0.0.43.tar.gz (883kB)\n",
            "\u001b[K     |████████████████████████████████| 890kB 52.8MB/s \n",
            "\u001b[?25hRequirement already satisfied: tqdm>=4.27 in /usr/local/lib/python3.7/dist-packages (from transformers) (4.41.1)\n",
            "Collecting tokenizers<0.11,>=0.10.1\n",
            "\u001b[?25l  Downloading https://files.pythonhosted.org/packages/71/23/2ddc317b2121117bf34dd00f5b0de194158f2a44ee2bf5e47c7166878a97/tokenizers-0.10.1-cp37-cp37m-manylinux2010_x86_64.whl (3.2MB)\n",
            "\u001b[K     |████████████████████████████████| 3.2MB 54.0MB/s \n",
            "\u001b[?25hRequirement already satisfied: numpy>=1.17 in /usr/local/lib/python3.7/dist-packages (from transformers) (1.19.5)\n",
            "Requirement already satisfied: importlib-metadata; python_version < \"3.8\" in /usr/local/lib/python3.7/dist-packages (from transformers) (3.7.0)\n",
            "Requirement already satisfied: regex!=2019.12.17 in /usr/local/lib/python3.7/dist-packages (from transformers) (2019.12.20)\n",
            "Requirement already satisfied: requests in /usr/local/lib/python3.7/dist-packages (from transformers) (2.23.0)\n",
            "Requirement already satisfied: filelock in /usr/local/lib/python3.7/dist-packages (from transformers) (3.0.12)\n",
            "Requirement already satisfied: pyparsing>=2.0.2 in /usr/local/lib/python3.7/dist-packages (from packaging->transformers) (2.4.7)\n",
            "Requirement already satisfied: six in /usr/local/lib/python3.7/dist-packages (from sacremoses->transformers) (1.15.0)\n",
            "Requirement already satisfied: click in /usr/local/lib/python3.7/dist-packages (from sacremoses->transformers) (7.1.2)\n",
            "Requirement already satisfied: joblib in /usr/local/lib/python3.7/dist-packages (from sacremoses->transformers) (1.0.1)\n",
            "Requirement already satisfied: zipp>=0.5 in /usr/local/lib/python3.7/dist-packages (from importlib-metadata; python_version < \"3.8\"->transformers) (3.4.1)\n",
            "Requirement already satisfied: typing-extensions>=3.6.4; python_version < \"3.8\" in /usr/local/lib/python3.7/dist-packages (from importlib-metadata; python_version < \"3.8\"->transformers) (3.7.4.3)\n",
            "Requirement already satisfied: idna<3,>=2.5 in /usr/local/lib/python3.7/dist-packages (from requests->transformers) (2.10)\n",
            "Requirement already satisfied: certifi>=2017.4.17 in /usr/local/lib/python3.7/dist-packages (from requests->transformers) (2020.12.5)\n",
            "Requirement already satisfied: urllib3!=1.25.0,!=1.25.1,<1.26,>=1.21.1 in /usr/local/lib/python3.7/dist-packages (from requests->transformers) (1.24.3)\n",
            "Requirement already satisfied: chardet<4,>=3.0.2 in /usr/local/lib/python3.7/dist-packages (from requests->transformers) (3.0.4)\n",
            "Building wheels for collected packages: sacremoses\n",
            "  Building wheel for sacremoses (setup.py) ... \u001b[?25l\u001b[?25hdone\n",
            "  Created wheel for sacremoses: filename=sacremoses-0.0.43-cp37-none-any.whl size=893262 sha256=4de501383ef8711156f6b7768398d1f475081b27987e0f720c1dd2eeab9de31e\n",
            "  Stored in directory: /root/.cache/pip/wheels/29/3c/fd/7ce5c3f0666dab31a50123635e6fb5e19ceb42ce38d4e58f45\n",
            "Successfully built sacremoses\n",
            "Installing collected packages: sacremoses, tokenizers, transformers\n",
            "Successfully installed sacremoses-0.0.43 tokenizers-0.10.1 transformers-4.3.3\n"
          ],
          "name": "stdout"
        }
      ]
    },
    {
      "cell_type": "code",
      "metadata": {
        "id": "Ayl7u3C1bJqZ"
      },
      "source": [
        "from tqdm import tqdm, trange"
      ],
      "execution_count": 3,
      "outputs": []
    },
    {
      "cell_type": "code",
      "metadata": {
        "id": "W5W2QCqNbMT5"
      },
      "source": [
        "import pickle"
      ],
      "execution_count": 4,
      "outputs": []
    },
    {
      "cell_type": "code",
      "metadata": {
        "id": "Qo83dM_ippaH"
      },
      "source": [
        "train_df = pd.read_csv('/content/drive/MyDrive/Colab Notebooks/sep_df_Train.csv') #Set Dir\r\n",
        "test_df = pd.read_csv('/content/drive/MyDrive/Colab Notebooks/sep_df_Test.csv') #Set Dir"
      ],
      "execution_count": 5,
      "outputs": []
    },
    {
      "cell_type": "code",
      "metadata": {
        "id": "c_6MefnabNQW"
      },
      "source": [
        "import ast\r\n",
        "train_df['words'] = train_df['words'].apply(ast.literal_eval)\r\n",
        "train_df['tags'] = train_df['tags'].apply(ast.literal_eval)\r\n",
        "test_df['words'] = test_df['words'].apply(ast.literal_eval)\r\n",
        "test_df['tags'] = test_df['tags'].apply(ast.literal_eval)\r\n",
        "\r\n",
        "train_words = train_df.words\r\n",
        "train_tags = train_df.tags\r\n",
        "\r\n",
        "test_words = test_df.words\r\n",
        "test_tags = test_df.tags"
      ],
      "execution_count": 6,
      "outputs": []
    },
    {
      "cell_type": "code",
      "metadata": {
        "id": "L4CtGYX6pmfQ"
      },
      "source": [
        "\r\n",
        "New_train_words , New_train_tags =  train_df['words'], train_df['tags']\r\n",
        "New_test_words , New_test_tags =  test_df['words'], test_df['tags']"
      ],
      "execution_count": 7,
      "outputs": []
    },
    {
      "cell_type": "code",
      "metadata": {
        "id": "LUSt8SUipyW9"
      },
      "source": [
        "class SentenceGetter(object):\r\n",
        "\r\n",
        "    def __init__(self, data):\r\n",
        "        self.n_sent = 1\r\n",
        "        self.data = data\r\n",
        "        self.empty = False\r\n",
        "        agg_func = lambda s: [(w, p, t) for w, p, t in zip(s[\"Word\"].values.tolist(),\r\n",
        "                                                           s[\"POS\"].values.tolist(),\r\n",
        "                                                           s[\"Tag\"].values.tolist())]\r\n",
        "        self.grouped = self.data.groupby(\"Sentence #\").apply(agg_func)\r\n",
        "        self.sentences = [s for s in self.grouped]\r\n",
        "\r\n",
        "    def get_next(self):\r\n",
        "        try:\r\n",
        "            s = self.grouped[\"Sentence: {}\".format(self.n_sent)]\r\n",
        "            self.n_sent += 1\r\n",
        "            return s\r\n",
        "        except:\r\n",
        "            return None"
      ],
      "execution_count": 8,
      "outputs": []
    },
    {
      "cell_type": "code",
      "metadata": {
        "id": "8-NE_ZmCp2ro"
      },
      "source": [
        "train_sentences = New_train_words\r\n",
        "test_sentences = New_test_words\r\n",
        "train_labels =  New_train_tags\r\n",
        "test_labels = New_test_tags"
      ],
      "execution_count": 9,
      "outputs": []
    },
    {
      "cell_type": "code",
      "metadata": {
        "colab": {
          "base_uri": "https://localhost:8080/",
          "height": 410
        },
        "id": "PYO3afGLp5T4",
        "outputId": "11af5d2e-af66-49ed-fdc0-d31de0052b7d"
      },
      "source": [
        "data = pd.read_csv('/content/drive/MyDrive/Colab Notebooks/dataframe.csv') #Set Dir\r\n",
        "\r\n",
        "data"
      ],
      "execution_count": 10,
      "outputs": [
        {
          "output_type": "execute_result",
          "data": {
            "text/html": [
              "<div>\n",
              "<style scoped>\n",
              "    .dataframe tbody tr th:only-of-type {\n",
              "        vertical-align: middle;\n",
              "    }\n",
              "\n",
              "    .dataframe tbody tr th {\n",
              "        vertical-align: top;\n",
              "    }\n",
              "\n",
              "    .dataframe thead th {\n",
              "        text-align: right;\n",
              "    }\n",
              "</style>\n",
              "<table border=\"1\" class=\"dataframe\">\n",
              "  <thead>\n",
              "    <tr style=\"text-align: right;\">\n",
              "      <th></th>\n",
              "      <th>Unnamed: 0</th>\n",
              "      <th>Word</th>\n",
              "      <th>Tag</th>\n",
              "    </tr>\n",
              "  </thead>\n",
              "  <tbody>\n",
              "    <tr>\n",
              "      <th>0</th>\n",
              "      <td>0</td>\n",
              "      <td>Record</td>\n",
              "      <td>O</td>\n",
              "    </tr>\n",
              "    <tr>\n",
              "      <th>1</th>\n",
              "      <td>1</td>\n",
              "      <td>date:</td>\n",
              "      <td>O</td>\n",
              "    </tr>\n",
              "    <tr>\n",
              "      <th>2</th>\n",
              "      <td>2</td>\n",
              "      <td>2083-10-18</td>\n",
              "      <td>B-DATE</td>\n",
              "    </tr>\n",
              "    <tr>\n",
              "      <th>3</th>\n",
              "      <td>3</td>\n",
              "      <td>CARDIOLOGY</td>\n",
              "      <td>O</td>\n",
              "    </tr>\n",
              "    <tr>\n",
              "      <th>4</th>\n",
              "      <td>4</td>\n",
              "      <td>WETZEL</td>\n",
              "      <td>B-HOSPITAL</td>\n",
              "    </tr>\n",
              "    <tr>\n",
              "      <th>...</th>\n",
              "      <td>...</td>\n",
              "      <td>...</td>\n",
              "      <td>...</td>\n",
              "    </tr>\n",
              "    <tr>\n",
              "      <th>815121</th>\n",
              "      <td>815121</td>\n",
              "      <td>Frank</td>\n",
              "      <td>B-DOCTOR</td>\n",
              "    </tr>\n",
              "    <tr>\n",
              "      <th>815122</th>\n",
              "      <td>815122</td>\n",
              "      <td>T.</td>\n",
              "      <td>I-DOCTOR</td>\n",
              "    </tr>\n",
              "    <tr>\n",
              "      <th>815123</th>\n",
              "      <td>815123</td>\n",
              "      <td>Xuan</td>\n",
              "      <td>I-DOCTOR</td>\n",
              "    </tr>\n",
              "    <tr>\n",
              "      <th>815124</th>\n",
              "      <td>815124</td>\n",
              "      <td>,</td>\n",
              "      <td>O</td>\n",
              "    </tr>\n",
              "    <tr>\n",
              "      <th>815125</th>\n",
              "      <td>815125</td>\n",
              "      <td>M.D.</td>\n",
              "      <td>O</td>\n",
              "    </tr>\n",
              "  </tbody>\n",
              "</table>\n",
              "<p>815126 rows × 3 columns</p>\n",
              "</div>"
            ],
            "text/plain": [
              "        Unnamed: 0        Word         Tag\n",
              "0                0      Record           O\n",
              "1                1       date:           O\n",
              "2                2  2083-10-18      B-DATE\n",
              "3                3  CARDIOLOGY           O\n",
              "4                4      WETZEL  B-HOSPITAL\n",
              "...            ...         ...         ...\n",
              "815121      815121       Frank    B-DOCTOR\n",
              "815122      815122          T.    I-DOCTOR\n",
              "815123      815123        Xuan    I-DOCTOR\n",
              "815124      815124           ,           O\n",
              "815125      815125        M.D.           O\n",
              "\n",
              "[815126 rows x 3 columns]"
            ]
          },
          "metadata": {
            "tags": []
          },
          "execution_count": 10
        }
      ]
    },
    {
      "cell_type": "code",
      "metadata": {
        "id": "zVWeeDSyp70J"
      },
      "source": [
        "tag_values = list(set(data[\"Tag\"].values))\r\n",
        "tag_values.append(\"PAD\")\r\n",
        "tag2idx = {t: i for i, t in enumerate(tag_values)}"
      ],
      "execution_count": 11,
      "outputs": []
    },
    {
      "cell_type": "code",
      "metadata": {
        "colab": {
          "base_uri": "https://localhost:8080/",
          "height": 34
        },
        "id": "BwLorGMSp9ee",
        "outputId": "d248f581-a45a-4fe5-95c4-a501c7dafd6d"
      },
      "source": [
        "import torch\r\n",
        "from torch.utils.data import TensorDataset, DataLoader, RandomSampler, SequentialSampler\r\n",
        "from transformers import MobileBertTokenizer, BertConfig\r\n",
        "\r\n",
        "from keras.preprocessing.sequence import pad_sequences\r\n",
        "from sklearn.model_selection import train_test_split\r\n",
        "\r\n",
        "torch.__version__"
      ],
      "execution_count": 12,
      "outputs": [
        {
          "output_type": "execute_result",
          "data": {
            "application/vnd.google.colaboratory.intrinsic+json": {
              "type": "string"
            },
            "text/plain": [
              "'1.8.0+cu101'"
            ]
          },
          "metadata": {
            "tags": []
          },
          "execution_count": 12
        }
      ]
    },
    {
      "cell_type": "code",
      "metadata": {
        "id": "ta6kRw-Kp_Mp"
      },
      "source": [
        "MAX_LEN = 256\r\n",
        "bs = 32"
      ],
      "execution_count": 13,
      "outputs": []
    },
    {
      "cell_type": "code",
      "metadata": {
        "id": "6DtOTiETqA7X"
      },
      "source": [
        "\r\n",
        "device = torch.device(\"cuda\" if torch.cuda.is_available() else \"cpu\")\r\n",
        "n_gpu = torch.cuda.device_count()"
      ],
      "execution_count": 14,
      "outputs": []
    },
    {
      "cell_type": "code",
      "metadata": {
        "colab": {
          "base_uri": "https://localhost:8080/",
          "height": 34
        },
        "id": "RsCOuTAnqCSo",
        "outputId": "47a22d8f-a0c0-499d-8224-9cf3bf892a4d"
      },
      "source": [
        "torch.cuda.get_device_name(0)\r\n"
      ],
      "execution_count": 15,
      "outputs": [
        {
          "output_type": "execute_result",
          "data": {
            "application/vnd.google.colaboratory.intrinsic+json": {
              "type": "string"
            },
            "text/plain": [
              "'Tesla T4'"
            ]
          },
          "metadata": {
            "tags": []
          },
          "execution_count": 15
        }
      ]
    },
    {
      "cell_type": "code",
      "metadata": {
        "colab": {
          "base_uri": "https://localhost:8080/",
          "height": 116,
          "referenced_widgets": [
            "1e9a68d217da471eb97cd0301899df97",
            "d9396a8be531493da5262a93febd0766",
            "9032f4ab69394acfac93126c5766afcf",
            "1ae0da4f45924e929a5eab64814f3de9",
            "f4b6d3868e114feba817313273add1f7",
            "dc0b37ceeb6245ce90361b01283c154b",
            "791385e4d4a44456953eb8dad36c4539",
            "39274c774c7a430e9b04decc9610339e",
            "e7746837506845f1a54caf298780482f",
            "81d11434f989429ab7c3fef3d0bb55fe",
            "b1094edfa4e14f73acf07beb3afdadeb",
            "d77d016f053940c6832ae4704fe2d9eb",
            "603dc0f8c5a54e10a5ab92a1d6415ce2",
            "705d47d0188842a68babe5dc523dcb1c",
            "d5f7f6b1089049b6af7a081c64524739",
            "00149089bfc94c87a48e7115dc1cee79"
          ]
        },
        "id": "tD0jCaNnqDnf",
        "outputId": "c7d78cd8-4bad-4d20-df8e-030ab8d260b4"
      },
      "source": [
        "tokenizer = MobileBertTokenizer.from_pretrained('google/mobilebert-uncased', do_lower_case=False)\r\n"
      ],
      "execution_count": 16,
      "outputs": [
        {
          "output_type": "display_data",
          "data": {
            "application/vnd.jupyter.widget-view+json": {
              "model_id": "1e9a68d217da471eb97cd0301899df97",
              "version_minor": 0,
              "version_major": 2
            },
            "text/plain": [
              "HBox(children=(FloatProgress(value=0.0, description='Downloading', max=231508.0, style=ProgressStyle(descripti…"
            ]
          },
          "metadata": {
            "tags": []
          }
        },
        {
          "output_type": "stream",
          "text": [
            "\n"
          ],
          "name": "stdout"
        },
        {
          "output_type": "display_data",
          "data": {
            "application/vnd.jupyter.widget-view+json": {
              "model_id": "e7746837506845f1a54caf298780482f",
              "version_minor": 0,
              "version_major": 2
            },
            "text/plain": [
              "HBox(children=(FloatProgress(value=0.0, description='Downloading', max=466062.0, style=ProgressStyle(descripti…"
            ]
          },
          "metadata": {
            "tags": []
          }
        },
        {
          "output_type": "stream",
          "text": [
            "\n"
          ],
          "name": "stdout"
        }
      ]
    },
    {
      "cell_type": "code",
      "metadata": {
        "id": "L-s8f7tUqE36"
      },
      "source": [
        "def tokenize_and_preserve_labels(sentence, text_labels):\r\n",
        "    tokenized_sentence = []\r\n",
        "    labels = []\r\n",
        "\r\n",
        "    for word, label in zip(sentence, text_labels):\r\n",
        "\r\n",
        "        # Tokenize the word and count # of subwords the word is broken into\r\n",
        "        tokenized_word = tokenizer.tokenize(word)\r\n",
        "        n_subwords = len(tokenized_word)\r\n",
        "\r\n",
        "        # Add the tokenized word to the final tokenized word list\r\n",
        "        tokenized_sentence.extend(tokenized_word)\r\n",
        "\r\n",
        "        # Add the same label to the new list of labels `n_subwords` times\r\n",
        "        labels.extend([label] * n_subwords)\r\n",
        "\r\n",
        "    return tokenized_sentence, labels"
      ],
      "execution_count": 17,
      "outputs": []
    },
    {
      "cell_type": "code",
      "metadata": {
        "id": "gq7G6GiaqG-i"
      },
      "source": [
        "\r\n",
        "train_tokenized_texts_and_labels = [\r\n",
        "    tokenize_and_preserve_labels(sent, labs)\r\n",
        "    for sent, labs in zip(train_sentences, train_labels)\r\n",
        "]\r\n",
        "\r\n",
        "test_tokenized_texts_and_labels = [\r\n",
        "    tokenize_and_preserve_labels(sent, labs)\r\n",
        "    for sent, labs in zip(test_sentences, test_labels)\r\n",
        "]"
      ],
      "execution_count": 18,
      "outputs": []
    },
    {
      "cell_type": "code",
      "metadata": {
        "id": "7tId2OPUqInw"
      },
      "source": [
        "train_tokenized_texts = [token_label_pair[0] for token_label_pair in train_tokenized_texts_and_labels]\r\n",
        "train_labels = [token_label_pair[1] for token_label_pair in train_tokenized_texts_and_labels]\r\n",
        "\r\n",
        "test_tokenize_texts = [token_label_pair[0] for token_label_pair in test_tokenized_texts_and_labels]\r\n",
        "test_labels = [token_label_pair[1] for token_label_pair in test_tokenized_texts_and_labels]"
      ],
      "execution_count": 19,
      "outputs": []
    },
    {
      "cell_type": "code",
      "metadata": {
        "colab": {
          "base_uri": "https://localhost:8080/"
        },
        "id": "MbBk__lMqLFY",
        "outputId": "10cafc51-0351-47e6-ac46-6783a3289ebd"
      },
      "source": [
        "test_tokenize_texts[0][:10], test_labels[0][:10]\r\n"
      ],
      "execution_count": 20,
      "outputs": [
        {
          "output_type": "execute_result",
          "data": {
            "text/plain": [
              "(['[UNK]', 'date', ':', '206', '##8', '-', '03', '-', '31', '[UNK]'],\n",
              " ['O',\n",
              "  'O',\n",
              "  'O',\n",
              "  'B-DATE',\n",
              "  'B-DATE',\n",
              "  'B-DATE',\n",
              "  'B-DATE',\n",
              "  'B-DATE',\n",
              "  'B-DATE',\n",
              "  'B-HOSPITAL'])"
            ]
          },
          "metadata": {
            "tags": []
          },
          "execution_count": 20
        }
      ]
    },
    {
      "cell_type": "code",
      "metadata": {
        "id": "tXYq0IqWqUod"
      },
      "source": [
        "\r\n",
        "train_input_ids = pad_sequences([tokenizer.convert_tokens_to_ids(txt) for txt in train_tokenized_texts],\r\n",
        "                          maxlen=MAX_LEN, dtype=\"long\", value=0.0,\r\n",
        "                          truncating=\"post\", padding=\"post\")\r\n",
        "\r\n",
        "test_input_ids = pad_sequences([tokenizer.convert_tokens_to_ids(txt) for txt in test_tokenize_texts],\r\n",
        "                          maxlen=MAX_LEN, dtype=\"long\", value=0.0,\r\n",
        "                          truncating=\"post\", padding=\"post\")"
      ],
      "execution_count": 21,
      "outputs": []
    },
    {
      "cell_type": "code",
      "metadata": {
        "id": "6by6BN-BqWOM"
      },
      "source": [
        "train_tags = pad_sequences([[tag2idx.get(l) for l in lab] for lab in train_labels],\r\n",
        "                     maxlen=MAX_LEN, value=tag2idx[\"PAD\"], padding=\"post\",\r\n",
        "                     dtype=\"long\", truncating=\"post\")\r\n",
        "\r\n",
        "test_tags = pad_sequences([[tag2idx.get(l) for l in lab] for lab in test_labels],\r\n",
        "                     maxlen=MAX_LEN, value=tag2idx[\"PAD\"], padding=\"post\",\r\n",
        "                     dtype=\"long\", truncating=\"post\")\r\n"
      ],
      "execution_count": 22,
      "outputs": []
    },
    {
      "cell_type": "code",
      "metadata": {
        "id": "j4xwMJe1qYQz"
      },
      "source": [
        "train_attention_masks = [[float(i != 0.0) for i in ii] for ii in train_input_ids]\r\n",
        "test_attention_masks = [[float(i != 0.0) for i in ii] for ii in test_input_ids]"
      ],
      "execution_count": 23,
      "outputs": []
    },
    {
      "cell_type": "code",
      "metadata": {
        "id": "1Wyxy-snqaNZ"
      },
      "source": [
        "tr_inputs, val_inputs, tr_tags, val_tags = train_input_ids, test_input_ids, train_tags, test_tags\r\n",
        "\r\n",
        "tr_masks, val_masks = train_attention_masks, test_attention_masks"
      ],
      "execution_count": 24,
      "outputs": []
    },
    {
      "cell_type": "code",
      "metadata": {
        "id": "9YrGpDz9r3yl"
      },
      "source": [
        "tr_inputs = torch.tensor(tr_inputs)\r\n",
        "val_inputs = torch.tensor(val_inputs)\r\n",
        "tr_tags = torch.tensor(tr_tags)\r\n",
        "val_tags = torch.tensor(val_tags)\r\n",
        "tr_masks = torch.tensor(tr_masks)\r\n",
        "val_masks = torch.tensor(val_masks)"
      ],
      "execution_count": 25,
      "outputs": []
    },
    {
      "cell_type": "code",
      "metadata": {
        "id": "_UmGbChNr5Wj"
      },
      "source": [
        "train_data = TensorDataset(tr_inputs, tr_masks, tr_tags)\r\n",
        "train_sampler = RandomSampler(train_data)\r\n",
        "train_dataloader = DataLoader(train_data, sampler=train_sampler, batch_size=bs)\r\n",
        "\r\n",
        "valid_data = TensorDataset(val_inputs, val_masks, val_tags)\r\n",
        "valid_sampler = SequentialSampler(valid_data)\r\n",
        "valid_dataloader = DataLoader(valid_data, sampler=valid_sampler, batch_size=bs)"
      ],
      "execution_count": 26,
      "outputs": []
    },
    {
      "cell_type": "code",
      "metadata": {
        "colab": {
          "base_uri": "https://localhost:8080/",
          "height": 34
        },
        "id": "oK9Wd749r62r",
        "outputId": "25ade1fb-3ef2-433d-97ae-d0500a9e14ca"
      },
      "source": [
        "\r\n",
        "import transformers\r\n",
        "from transformers import MobileBertForTokenClassification, AdamW\r\n",
        "\r\n",
        "transformers.__version__"
      ],
      "execution_count": 27,
      "outputs": [
        {
          "output_type": "execute_result",
          "data": {
            "application/vnd.google.colaboratory.intrinsic+json": {
              "type": "string"
            },
            "text/plain": [
              "'4.3.3'"
            ]
          },
          "metadata": {
            "tags": []
          },
          "execution_count": 27
        }
      ]
    },
    {
      "cell_type": "code",
      "metadata": {
        "colab": {
          "base_uri": "https://localhost:8080/",
          "height": 224,
          "referenced_widgets": [
            "88ebd5d4c7c44568bbab2c959205ddfd",
            "b58f7304267a4f58a39c6c8a0229c261",
            "0fb94af702b1491cb011fdd0badf26fd",
            "959f59d1622247f1a3da15186b3a3643",
            "6f3880c37bf341f7b97ca7bae04130a1",
            "b3a82820a3ec431d919145761f6f0bc0",
            "701656078a9a44a38802203f33c34053",
            "36c2058ce58a4a5797c8be26abedc2d6",
            "63bc302665f64c05ae86d663d83187ff",
            "2122d0e76e4e43479a29fb98a1666251",
            "1d68cfe0a60742619bcc1d175010aa8d",
            "0c6b10f48d5f41c3b1680f4c0ca6a65a",
            "d6d20e8199074e31bdd61a7c38d0f95a",
            "ee37fde39fd04759b92340bab6841b07",
            "0cdda312447f4b5ba496a31e28df6ae3",
            "4586a64578814af1b27e7755e155003f"
          ]
        },
        "id": "zsBNIS7or8iW",
        "outputId": "f0354111-dc3d-4961-db7c-d9dfe4e05bbc"
      },
      "source": [
        "\r\n",
        "model = MobileBertForTokenClassification.from_pretrained(\r\n",
        "    \"google/mobilebert-uncased\",\r\n",
        "    num_labels=len(tag2idx),\r\n",
        "    output_attentions = False,\r\n",
        "    output_hidden_states = False\r\n",
        ")"
      ],
      "execution_count": 28,
      "outputs": [
        {
          "output_type": "display_data",
          "data": {
            "application/vnd.jupyter.widget-view+json": {
              "model_id": "88ebd5d4c7c44568bbab2c959205ddfd",
              "version_minor": 0,
              "version_major": 2
            },
            "text/plain": [
              "HBox(children=(FloatProgress(value=0.0, description='Downloading', max=560.0, style=ProgressStyle(description_…"
            ]
          },
          "metadata": {
            "tags": []
          }
        },
        {
          "output_type": "stream",
          "text": [
            "\n"
          ],
          "name": "stdout"
        },
        {
          "output_type": "display_data",
          "data": {
            "application/vnd.jupyter.widget-view+json": {
              "model_id": "63bc302665f64c05ae86d663d83187ff",
              "version_minor": 0,
              "version_major": 2
            },
            "text/plain": [
              "HBox(children=(FloatProgress(value=0.0, description='Downloading', max=146671951.0, style=ProgressStyle(descri…"
            ]
          },
          "metadata": {
            "tags": []
          }
        },
        {
          "output_type": "stream",
          "text": [
            "\n"
          ],
          "name": "stdout"
        },
        {
          "output_type": "stream",
          "text": [
            "Some weights of the model checkpoint at google/mobilebert-uncased were not used when initializing MobileBertForTokenClassification: ['cls.predictions.bias', 'cls.predictions.transform.dense.weight', 'cls.predictions.transform.dense.bias', 'cls.predictions.transform.LayerNorm.weight', 'cls.predictions.transform.LayerNorm.bias', 'cls.predictions.dense.weight', 'cls.predictions.decoder.weight', 'cls.seq_relationship.weight', 'cls.seq_relationship.bias']\n",
            "- This IS expected if you are initializing MobileBertForTokenClassification from the checkpoint of a model trained on another task or with another architecture (e.g. initializing a BertForSequenceClassification model from a BertForPreTraining model).\n",
            "- This IS NOT expected if you are initializing MobileBertForTokenClassification from the checkpoint of a model that you expect to be exactly identical (initializing a BertForSequenceClassification model from a BertForSequenceClassification model).\n",
            "Some weights of MobileBertForTokenClassification were not initialized from the model checkpoint at google/mobilebert-uncased and are newly initialized: ['classifier.weight', 'classifier.bias']\n",
            "You should probably TRAIN this model on a down-stream task to be able to use it for predictions and inference.\n"
          ],
          "name": "stderr"
        }
      ]
    },
    {
      "cell_type": "code",
      "metadata": {
        "id": "Egse0nwur-9T"
      },
      "source": [
        "import torch.nn as nn\r\n",
        "import torch.nn.functional as F\r\n",
        "\r\n",
        "\r\n",
        "class Highway(nn.Module):\r\n",
        "    def __init__(self, size, num_layers, f):\r\n",
        "\r\n",
        "        super(Highway, self).__init__()\r\n",
        "\r\n",
        "        self.num_layers = num_layers\r\n",
        "\r\n",
        "        self.nonlinear = nn.ModuleList([nn.Linear(size, size) for _ in range(num_layers)])\r\n",
        "\r\n",
        "        self.linear = nn.ModuleList([nn.Linear(size, size) for _ in range(num_layers)])\r\n",
        "\r\n",
        "        self.gate = nn.ModuleList([nn.Linear(size, size) for _ in range(num_layers)])\r\n",
        "\r\n",
        "        self.f = f\r\n",
        "\r\n",
        "    def forward(self, x):\r\n",
        "        \"\"\"\r\n",
        "            :param x: tensor with shape of [batch_size, size]\r\n",
        "            :return: tensor with shape of [batch_size, size]\r\n",
        "            applies σ(x) ⨀ (f(G(x))) + (1 - σ(x)) ⨀ (Q(x)) transformation | G and Q is affine transformation,\r\n",
        "            f is non-linear transformation, σ(x) is affine transformation with sigmoid non-linearition\r\n",
        "            and ⨀ is element-wise multiplication\r\n",
        "            \"\"\"\r\n",
        "\r\n",
        "        for layer in range(self.num_layers):\r\n",
        "            gate = F.sigmoid(self.gate[layer](x))\r\n",
        "\r\n",
        "            nonlinear = self.f(self.nonlinear[layer](x))\r\n",
        "            linear = self.linear[layer](x)\r\n",
        "\r\n",
        "            x = gate * nonlinear + (1 - gate) * linear\r\n",
        "\r\n",
        "        return x"
      ],
      "execution_count": 29,
      "outputs": []
    },
    {
      "cell_type": "code",
      "metadata": {
        "id": "Mc7prJEqsIky"
      },
      "source": [
        "model.cuda();\r\n"
      ],
      "execution_count": 30,
      "outputs": []
    },
    {
      "cell_type": "code",
      "metadata": {
        "id": "XJxQOIMQshVq"
      },
      "source": [
        "input_size = len(train_data)\r\n",
        "num_layers = 3"
      ],
      "execution_count": 31,
      "outputs": []
    },
    {
      "cell_type": "code",
      "metadata": {
        "id": "8SfyEwQesOFN"
      },
      "source": [
        "highway = Highway(input_size, num_layers, f=torch.nn.functional.relu)"
      ],
      "execution_count": 32,
      "outputs": []
    },
    {
      "cell_type": "code",
      "metadata": {
        "id": "_7PwmnFdX7fF"
      },
      "source": [
        "\r\n",
        "FULL_FINETUNING = True\r\n",
        "if FULL_FINETUNING:\r\n",
        "    param_optimizer = list(model.named_parameters())\r\n",
        "    no_decay = ['bias', 'gamma', 'beta']\r\n",
        "    optimizer_grouped_parameters = [\r\n",
        "        {'params': [p for n, p in param_optimizer if not any(nd in n for nd in no_decay)],\r\n",
        "         'weight_decay_rate': 0.01},\r\n",
        "        {'params': [p for n, p in param_optimizer if any(nd in n for nd in no_decay)],\r\n",
        "         'weight_decay_rate': 0.0}\r\n",
        "    ]\r\n",
        "else:\r\n",
        "    param_optimizer = list(model.classifier.named_parameters())\r\n",
        "    optimizer_grouped_parameters = [{\"params\": [p for n, p in param_optimizer]}]\r\n",
        "\r\n",
        "optimizer = AdamW(\r\n",
        "    optimizer_grouped_parameters,\r\n",
        "    lr=3e-5,\r\n",
        "    eps=1e-8\r\n",
        ")"
      ],
      "execution_count": 33,
      "outputs": []
    },
    {
      "cell_type": "code",
      "metadata": {
        "id": "SiwO7_bYZLWX"
      },
      "source": [
        "from transformers import get_linear_schedule_with_warmup\r\n",
        "\r\n",
        "epochs = 5\r\n",
        "max_grad_norm = 1.0\r\n",
        "\r\n",
        "# Total number of training steps is number of batches * number of epochs.\r\n",
        "total_steps = len(train_dataloader) * epochs\r\n",
        "\r\n",
        "# Create the learning rate scheduler.\r\n",
        "scheduler = get_linear_schedule_with_warmup(\r\n",
        "    optimizer,\r\n",
        "    num_warmup_steps=0,\r\n",
        "    num_training_steps=total_steps\r\n",
        ")"
      ],
      "execution_count": 34,
      "outputs": []
    },
    {
      "cell_type": "code",
      "metadata": {
        "colab": {
          "base_uri": "https://localhost:8080/"
        },
        "id": "mSeZF_IrZPO5",
        "outputId": "b183462c-220b-4c55-8a4c-b3a2e8805418"
      },
      "source": [
        "\r\n",
        "!pip install seqeval==0.0.17\r\n",
        "from seqeval.metrics import f1_score, accuracy_score"
      ],
      "execution_count": 35,
      "outputs": [
        {
          "output_type": "stream",
          "text": [
            "Collecting seqeval==0.0.17\n",
            "  Downloading https://files.pythonhosted.org/packages/d8/9d/89d9ac5d6506f8368ba5ae53b054cf26bf796935eff6a1945431c7a5d485/seqeval-0.0.17.tar.gz\n",
            "Requirement already satisfied: numpy>=1.14.0 in /usr/local/lib/python3.7/dist-packages (from seqeval==0.0.17) (1.19.5)\n",
            "Requirement already satisfied: Keras>=2.2.4 in /usr/local/lib/python3.7/dist-packages (from seqeval==0.0.17) (2.4.3)\n",
            "Requirement already satisfied: h5py in /usr/local/lib/python3.7/dist-packages (from Keras>=2.2.4->seqeval==0.0.17) (2.10.0)\n",
            "Requirement already satisfied: scipy>=0.14 in /usr/local/lib/python3.7/dist-packages (from Keras>=2.2.4->seqeval==0.0.17) (1.4.1)\n",
            "Requirement already satisfied: pyyaml in /usr/local/lib/python3.7/dist-packages (from Keras>=2.2.4->seqeval==0.0.17) (3.13)\n",
            "Requirement already satisfied: six in /usr/local/lib/python3.7/dist-packages (from h5py->Keras>=2.2.4->seqeval==0.0.17) (1.15.0)\n",
            "Building wheels for collected packages: seqeval\n",
            "  Building wheel for seqeval (setup.py) ... \u001b[?25l\u001b[?25hdone\n",
            "  Created wheel for seqeval: filename=seqeval-0.0.17-cp37-none-any.whl size=7640 sha256=4ff57f45fca7ac25546560a5bbcb8fa33ac56a75e5fe4c641af379a03f48c046\n",
            "  Stored in directory: /root/.cache/pip/wheels/6a/c8/cf/7b9d5d52984c08ce4d27d6f858a682ef74a3738f43f489166a\n",
            "Successfully built seqeval\n",
            "Installing collected packages: seqeval\n",
            "Successfully installed seqeval-0.0.17\n"
          ],
          "name": "stdout"
        }
      ]
    },
    {
      "cell_type": "code",
      "metadata": {
        "colab": {
          "base_uri": "https://localhost:8080/"
        },
        "id": "N8F9J0oFZRPc",
        "outputId": "a3e05152-5957-403b-99dd-7130db90ff6b"
      },
      "source": [
        "## 시간 측정 \r\n",
        "\r\n",
        "import time\r\n",
        "start = time.time()\r\n",
        "\r\n",
        "\r\n",
        "## Store the average loss after each epoch so we can plot them.\r\n",
        "loss_values, validation_loss_values = [], []\r\n",
        "\r\n",
        "for _ in trange(epochs, desc=\"Epoch\"):\r\n",
        "    # ========================================\r\n",
        "    #               Training\r\n",
        "    # ========================================\r\n",
        "    # Perform one full pass over the training set.\r\n",
        "\r\n",
        "    # Put the model into training mode.\r\n",
        "    model.train()\r\n",
        "    # Reset the total loss for this epoch.\r\n",
        "    total_loss = 0\r\n",
        "\r\n",
        "    # Training loop\r\n",
        "    for step, batch in enumerate(train_dataloader):\r\n",
        "        # add batch to gpu\r\n",
        "        batch = tuple(t.to(device) for t in batch)\r\n",
        "        b_input_ids, b_input_mask, b_labels = batch\r\n",
        "        # Always clear any previously calculated gradients before performing a backward pass.\r\n",
        "        model.zero_grad()\r\n",
        "        # forward pass\r\n",
        "        # This will return the loss (rather than the model output)\r\n",
        "        # because we have provided the `labels`.\r\n",
        "        # add = highway(b_input_ids)\r\n",
        "        outputs = model(b_input_ids, token_type_ids=None,\r\n",
        "                        attention_mask=b_input_mask, labels=b_labels)\r\n",
        "        # get the loss\r\n",
        "        loss = outputs[0]\r\n",
        "        # Perform a backward pass to calculate the gradients.\r\n",
        "        loss.backward()\r\n",
        "        # track train loss\r\n",
        "        total_loss += loss.item()\r\n",
        "        # Clip the norm of the gradient\r\n",
        "        # This is to help prevent the \"exploding gradients\" problem.\r\n",
        "        torch.nn.utils.clip_grad_norm_(parameters=model.parameters(), max_norm=max_grad_norm)\r\n",
        "        # update parameters\r\n",
        "        optimizer.step()\r\n",
        "        # Update the learning rate.\r\n",
        "        scheduler.step()\r\n",
        "\r\n",
        "    # Calculate the average loss over the training data.\r\n",
        "    avg_train_loss = total_loss / len(train_dataloader)\r\n",
        "    print(\"Average train loss: {}\".format(avg_train_loss))\r\n",
        "\r\n",
        "    # Store the loss value for plotting the learning curve.\r\n",
        "    loss_values.append(avg_train_loss)\r\n",
        "\r\n",
        "\r\n",
        "    # ========================================\r\n",
        "    #               Validation\r\n",
        "    # ========================================\r\n",
        "    # After the completion of each training epoch, measure our performance on\r\n",
        "    # our validation set.\r\n",
        "    # Put the model into evaluation mode\r\n",
        "    model.eval()\r\n",
        "    # Reset the validation loss for this epoch.\r\n",
        "    eval_loss, eval_accuracy = 0, 0\r\n",
        "    nb_eval_steps, nb_eval_examples = 0, 0\r\n",
        "    predictions , true_labels = [], []\r\n",
        "    for batch in valid_dataloader:\r\n",
        "        batch = tuple(t.to(device) for t in batch)\r\n",
        "        b_input_ids, b_input_mask, b_labels = batch\r\n",
        "\r\n",
        "        # Telling the model not to compute or store gradients,\r\n",
        "        # saving memory and speeding up validation\r\n",
        "        with torch.no_grad():\r\n",
        "            # Forward pass, calculate logit predictions.\r\n",
        "            # This will return the logits rather than the loss because we have not provided labels.\r\n",
        "            outputs = model(b_input_ids, token_type_ids=None,\r\n",
        "                            attention_mask=b_input_mask, labels=b_labels)\r\n",
        "        # Move logits and labels to CPU\r\n",
        "        logits = outputs[1].detach().cpu().numpy()\r\n",
        "        label_ids = b_labels.to('cpu').numpy()\r\n",
        "\r\n",
        "        # Calculate the accuracy for this batch of test sentences.\r\n",
        "        eval_loss += outputs[0].mean().item()\r\n",
        "        predictions.extend([list(p) for p in np.argmax(logits, axis=2)])\r\n",
        "        true_labels.extend(label_ids)\r\n",
        "\r\n",
        "    eval_loss = eval_loss / len(valid_dataloader)\r\n",
        "    validation_loss_values.append(eval_loss)\r\n",
        "    print(\"Validation loss: {}\".format(eval_loss))\r\n",
        "    pred_tags = [tag_values[p_i] for p, l in zip(predictions, true_labels)\r\n",
        "                                 for p_i, l_i in zip(p, l) if tag_values[l_i] != \"PAD\"]\r\n",
        "    valid_tags = [tag_values[l_i] for l in true_labels\r\n",
        "                                  for l_i in l if tag_values[l_i] != \"PAD\"]\r\n",
        "    print(\"Validation Accuracy: {}\".format(accuracy_score(pred_tags, valid_tags)))\r\n",
        "    print(\"Validation F1-Score: {}\".format(f1_score(pred_tags, valid_tags)))\r\n",
        "    print()\r\n",
        "## 시간 측정 \r\n",
        "print(\"time :\", time.time() - start)  # 현재시각 - 시작시간 = 실행 시간"
      ],
      "execution_count": 36,
      "outputs": [
        {
          "output_type": "stream",
          "text": [
            "\rEpoch:   0%|          | 0/5 [00:00<?, ?it/s]"
          ],
          "name": "stderr"
        },
        {
          "output_type": "stream",
          "text": [
            "Average train loss: 1137.274108089308\n",
            "Validation loss: 0.14152727741748095\n",
            "Validation Accuracy: 0.9667093069532094\n"
          ],
          "name": "stdout"
        },
        {
          "output_type": "stream",
          "text": [
            "\rEpoch:  20%|██        | 1/5 [00:59<03:59, 59.80s/it]"
          ],
          "name": "stderr"
        },
        {
          "output_type": "stream",
          "text": [
            "Validation F1-Score: 0.7390683973119765\n",
            "\n",
            "Average train loss: 0.11275509253144264\n",
            "Validation loss: 0.08318446242871384\n",
            "Validation Accuracy: 0.9787907214736483\n"
          ],
          "name": "stdout"
        },
        {
          "output_type": "stream",
          "text": [
            "\rEpoch:  40%|████      | 2/5 [02:02<03:01, 60.55s/it]"
          ],
          "name": "stderr"
        },
        {
          "output_type": "stream",
          "text": [
            "Validation F1-Score: 0.8207437344872274\n",
            "\n",
            "Average train loss: 0.07973511144518852\n",
            "Validation loss: 0.06751094618812203\n",
            "Validation Accuracy: 0.9827448973790437\n"
          ],
          "name": "stdout"
        },
        {
          "output_type": "stream",
          "text": [
            "\rEpoch:  60%|██████    | 3/5 [03:04<02:02, 61.18s/it]"
          ],
          "name": "stderr"
        },
        {
          "output_type": "stream",
          "text": [
            "Validation F1-Score: 0.8570302579147874\n",
            "\n",
            "Average train loss: 0.06800680552919705\n",
            "Validation loss: 0.061724291260664664\n",
            "Validation Accuracy: 0.9844050258684405\n"
          ],
          "name": "stdout"
        },
        {
          "output_type": "stream",
          "text": [
            "\rEpoch:  80%|████████  | 4/5 [04:07<01:01, 61.66s/it]"
          ],
          "name": "stderr"
        },
        {
          "output_type": "stream",
          "text": [
            "Validation F1-Score: 0.8670862803625117\n",
            "\n",
            "Average train loss: 0.06632378799219926\n",
            "Validation loss: 0.06029083300381899\n",
            "Validation Accuracy: 0.984689294445392\n"
          ],
          "name": "stdout"
        },
        {
          "output_type": "stream",
          "text": [
            "Epoch: 100%|██████████| 5/5 [05:10<00:00, 62.04s/it]"
          ],
          "name": "stderr"
        },
        {
          "output_type": "stream",
          "text": [
            "Validation F1-Score: 0.8689500474506082\n",
            "\n",
            "time : 310.21030139923096\n"
          ],
          "name": "stdout"
        },
        {
          "output_type": "stream",
          "text": [
            "\n"
          ],
          "name": "stderr"
        }
      ]
    },
    {
      "cell_type": "code",
      "metadata": {
        "id": "uPOCwVYrZgoi"
      },
      "source": [
        ""
      ],
      "execution_count": 36,
      "outputs": []
    }
  ]
}